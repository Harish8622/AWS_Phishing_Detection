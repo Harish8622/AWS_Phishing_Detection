{
 "cells": [
  {
   "cell_type": "markdown",
   "id": "cf530938-e691-4140-8028-0d9aad14e88e",
   "metadata": {},
   "source": [
    "# Training Notebook 2\n",
    "## Dropping Non-Important Features\n",
    "\n",
    "Based on feature importance analysis, we identified the following features as having zero importance:\n",
    "\n",
    "- `IsDomainIP` (Index 3)\n",
    "- `NoOfEqualsInURL` (Index 6)\n",
    "- `NoOfQMarkInURL` (Index 7)\n",
    "- `URLEntropy` (Index 12)\n",
    "\n",
    "Since the dataset has no headers, we use these indices to drop the columns directly. This ensures that the final dataset is smaller, more efficient, and contains only the features that actually contribute to the model’s predictions.\n",
    "\n",
    "The remaining columns are:\n",
    "\n",
    "- `label`\n",
    "- `URLLength`\n",
    "- `DomainLength`\n",
    "- `NoOfSubDomain`\n",
    "- `LetterRatioInURL`\n",
    "- `NoOfAmpersandInURL`\n",
    "- `SpacialCharRatioInURL`\n",
    "- `IsHTTPS`\n",
    "- `CharContinuationRate`\n"
   ]
  },
  {
   "cell_type": "code",
   "execution_count": null,
   "id": "0309d7b1-e785-4abb-8b60-d282b6d2f5fe",
   "metadata": {},
   "outputs": [],
   "source": [
    "# import libraries\n",
    "import pandas as pd\n",
    "import os\n",
    "\n",
    "import sagemaker\n",
    "import boto3\n",
    "from sagemaker.inputs import TrainingInput\n",
    "from sagemaker import Session\n",
    "from sagemaker.estimator import Estimator\n",
    "from sagemaker import get_execution_role\n",
    "from sagemaker import image_uris\n",
    "import tarfile\n",
    "import xgboost as xgb\n",
    "from sklearn.metrics import classification_report, accuracy_score, confusion_matrix\n",
    "\n",
    "# for endpoint \n",
    "import sagemaker\n",
    "from sagemaker import Session, get_execution_role\n",
    "from sagemaker.model import Model\n",
    "from sagemaker.serializers import CSVSerializer\n",
    "from sagemaker.deserializers import JSONDeserializer"
   ]
  },
  {
   "cell_type": "code",
   "execution_count": 1,
   "id": "4be6b732-7315-482a-875a-7ab4e4071aff",
   "metadata": {
    "execution": {
     "iopub.execute_input": "2025-06-03T14:49:10.591008Z",
     "iopub.status.busy": "2025-06-03T14:49:10.590423Z",
     "iopub.status.idle": "2025-06-03T14:49:12.464176Z",
     "shell.execute_reply": "2025-06-03T14:49:12.463106Z",
     "shell.execute_reply.started": "2025-06-03T14:49:10.590976Z"
    }
   },
   "outputs": [
    {
     "name": "stdout",
     "output_type": "stream",
     "text": [
      "Processed and saved train.csv -> ../data/data_reduced_features/train.csv\n",
      "Processed and saved validation.csv -> ../data/data_reduced_features/validation.csv\n",
      "Processed and saved test.csv -> ../data/data_reduced_features/test.csv\n"
     ]
    }
   ],
   "source": [
    "# Directories\n",
    "input_dir = '../data/initial_processed_data'\n",
    "output_dir = '../data/data_reduced_features'\n",
    "os.makedirs(output_dir, exist_ok=True)\n",
    "\n",
    "# Columns to drop (indices of the features to remove)\n",
    "columns_to_drop = [3,6,7,12]\n",
    "\n",
    "# Files to process\n",
    "files = ['train.csv', 'validation.csv', 'test.csv']\n",
    "\n",
    "for file in files:\n",
    "    input_path = os.path.join(input_dir, file)\n",
    "    output_path = os.path.join(output_dir, file)\n",
    "    \n",
    "    # Read CSV without headers\n",
    "    df = pd.read_csv(input_path, header=None)\n",
    "    \n",
    "    # Drop the specified columns\n",
    "    df_cleaned = df.drop(columns=columns_to_drop)\n",
    "    \n",
    "    # Save the cleaned dataset\n",
    "    df_cleaned.to_csv(output_path, index=False, header=False)\n",
    "    print(f\"Processed and saved {file} -> {output_path}\")"
   ]
  },
  {
   "cell_type": "code",
   "execution_count": 2,
   "id": "f4f83812-dd1f-4da0-bb86-3d6afadde183",
   "metadata": {
    "execution": {
     "iopub.execute_input": "2025-06-03T14:50:04.744013Z",
     "iopub.status.busy": "2025-06-03T14:50:04.743735Z",
     "iopub.status.idle": "2025-06-03T14:50:05.655355Z",
     "shell.execute_reply": "2025-06-03T14:50:05.654694Z",
     "shell.execute_reply.started": "2025-06-03T14:50:04.743991Z"
    }
   },
   "outputs": [
    {
     "name": "stdout",
     "output_type": "stream",
     "text": [
      "Uploaded train.csv to s3://sagemaker-eu-west-1-277841471265/data/data_reduced_features/train.csv\n",
      "Uploaded validation.csv to s3://sagemaker-eu-west-1-277841471265/data/data_reduced_features/validation.csv\n",
      "Uploaded test.csv to s3://sagemaker-eu-west-1-277841471265/data/data_reduced_features/test.csv\n"
     ]
    }
   ],
   "source": [
    "import boto3\n",
    "\n",
    "# S3 config\n",
    "bucket = 'sagemaker-eu-west-1-277841471265'\n",
    "s3_prefix = 'data/data_reduced_features'\n",
    "s3 = boto3.client('s3')\n",
    "\n",
    "# Upload files\n",
    "for file in files:\n",
    "    local_path = os.path.join(output_dir, file)\n",
    "    s3_key = f\"{s3_prefix}/{file}\"\n",
    "    \n",
    "    s3.upload_file(local_path, bucket, s3_key)\n",
    "    print(f\"Uploaded {file} to s3://{bucket}/{s3_key}\")"
   ]
  },
  {
   "cell_type": "code",
   "execution_count": 5,
   "id": "5cc38692-8469-42a2-bb22-445a992f4ce5",
   "metadata": {
    "execution": {
     "iopub.execute_input": "2025-06-03T14:52:18.221707Z",
     "iopub.status.busy": "2025-06-03T14:52:18.221351Z",
     "iopub.status.idle": "2025-06-03T14:52:18.499587Z",
     "shell.execute_reply": "2025-06-03T14:52:18.498826Z",
     "shell.execute_reply.started": "2025-06-03T14:52:18.221684Z"
    }
   },
   "outputs": [
    {
     "name": "stdout",
     "output_type": "stream",
     "text": [
      "\n",
      "===== Original Dataset Head (first 5 rows) =====\n",
      "   0   1   2   3   4      5   6   7   8      9   10        11        12\n",
      "0   1  23  15   0   1  0.783   0   0   0  0.217   1  0.181818  3.567040\n",
      "1   1  40  32   0   1  0.875   0   0   0  0.125   1  0.128205  4.177567\n",
      "2   1  27  19   0   1  0.815   0   0   0  0.185   1  0.153846  3.838040\n",
      "3   1  25  17   0   1  0.800   0   0   0  0.200   1  0.166667  3.753270\n",
      "4   1  30  22   0   1  0.800   0   0   0  0.200   1  0.137931  4.031402\n",
      "\n",
      "===== Cleaned Dataset Head (first 5 rows) =====\n",
      "   0   1   2  3      4  5      6  7         8\n",
      "0  1  23  15  1  0.783  0  0.217  1  0.181818\n",
      "1  1  40  32  1  0.875  0  0.125  1  0.128205\n",
      "2  1  27  19  1  0.815  0  0.185  1  0.153846\n",
      "3  1  25  17  1  0.800  0  0.200  1  0.166667\n",
      "4  1  30  22  1  0.800  0  0.200  1  0.137931\n",
      "\n",
      "===== Original Columns Kept Indices =====\n",
      "[0, 1, 2, 4, 5, 8, 9, 10, 11]\n"
     ]
    }
   ],
   "source": [
    "# Inspect data\n",
    "\n",
    "# Paths\n",
    "original_path = '../data/initial_processed_data/train.csv'\n",
    "cleaned_path = '../data/data_reduced_features/train.csv'\n",
    "\n",
    "# Load datasets (no headers!)\n",
    "df_original = pd.read_csv(original_path, header=None)\n",
    "df_cleaned = pd.read_csv(cleaned_path, header=None)\n",
    "\n",
    "# Show head of original dataset\n",
    "print(\"\\n===== Original Dataset Head (first 5 rows) =====\")\n",
    "print(df_original.head())\n",
    "\n",
    "# Show head of cleaned dataset\n",
    "print(\"\\n===== Cleaned Dataset Head (first 5 rows) =====\")\n",
    "print(df_cleaned.head())\n",
    "\n",
    "# Show mapping of original to cleaned (skipping dropped columns)\n",
    "original_cols_to_keep = [0, 1, 2, 4, 5, 8, 9, 10, 11]\n",
    "print(\"\\n===== Original Columns Kept Indices =====\")\n",
    "print(original_cols_to_keep)"
   ]
  },
  {
   "cell_type": "markdown",
   "id": "7d20d3ce-9931-482c-b8fa-9f8c37d722f0",
   "metadata": {},
   "source": [
    "# Retrain with the new dataset"
   ]
  },
  {
   "cell_type": "code",
   "execution_count": 7,
   "id": "4b08628e-ba6d-48ff-b0d4-9d71fca08b5b",
   "metadata": {
    "execution": {
     "iopub.execute_input": "2025-06-03T14:52:49.847734Z",
     "iopub.status.busy": "2025-06-03T14:52:49.847415Z",
     "iopub.status.idle": "2025-06-03T14:52:49.989157Z",
     "shell.execute_reply": "2025-06-03T14:52:49.988436Z",
     "shell.execute_reply.started": "2025-06-03T14:52:49.847710Z"
    }
   },
   "outputs": [],
   "source": [
    "role = get_execution_role()\n",
    "session = Session()\n",
    "region = session.boto_region_name\n",
    "\n",
    "# initialize hyperparameters\n",
    "hyperparameters = {\n",
    "        \"max_depth\":\"5\",\n",
    "        \"eta\":\"0.2\",\n",
    "        \"gamma\":\"4\",\n",
    "        \"min_child_weight\":\"6\",\n",
    "        \"subsample\":\"0.7\",\n",
    "        \"objective\":\"binary:logistic\",\n",
    "        \"num_round\":\"300\"}\n",
    "\n",
    "# set an output path where the trained model will be saved\n",
    "bucket = 'sagemaker-eu-west-1-277841471265'\n",
    "s3_output_key = 'models/xgboost/v2'\n",
    "output_path = f's3://{bucket}/{s3_output_key}'\n",
    "\n",
    "# this line automatically looks for the XGBoost image URI and builds an XGBoost container.\n",
    "# specify the repo_version depending on your preference.\n",
    "xgboost_container = sagemaker.image_uris.retrieve(\"xgboost\", region, \"1.7-1\")\n",
    "\n",
    "# construct a SageMaker AI estimator that calls the xgboost-container\n",
    "estimator = sagemaker.estimator.Estimator(image_uri=xgboost_container, \n",
    "                                          hyperparameters=hyperparameters,\n",
    "                                          role=role,\n",
    "                                          instance_count=2, # demonstrating multi instance training\n",
    "                                          instance_type='ml.m5.large', \n",
    "                                          volume_size=5, # 5 GB \n",
    "                                          output_path=output_path)\n"
   ]
  },
  {
   "cell_type": "code",
   "execution_count": 8,
   "id": "08ef83bc-5711-4da8-80a0-d712dbd61414",
   "metadata": {
    "execution": {
     "iopub.execute_input": "2025-06-03T14:53:07.829233Z",
     "iopub.status.busy": "2025-06-03T14:53:07.828538Z",
     "iopub.status.idle": "2025-06-03T14:53:07.833131Z",
     "shell.execute_reply": "2025-06-03T14:53:07.832333Z",
     "shell.execute_reply.started": "2025-06-03T14:53:07.829203Z"
    }
   },
   "outputs": [],
   "source": [
    "# define the data type and paths to the training and validation datasets\n",
    "content_type = \"text/csv\"\n",
    "bucket = 'sagemaker-eu-west-1-277841471265'\n",
    "prefix = 'data/data_reduced_features'\n",
    "\n",
    "train_input = TrainingInput(f\"s3://{bucket}/{prefix}/train.csv\", content_type=content_type)\n",
    "validation_input = TrainingInput(f\"s3://{bucket}/{prefix}/validation.csv\", content_type=content_type)"
   ]
  },
  {
   "cell_type": "code",
   "execution_count": 9,
   "id": "af160f3b-6ca9-4a3f-8cf9-af502faf1935",
   "metadata": {
    "execution": {
     "iopub.execute_input": "2025-06-03T14:53:10.506895Z",
     "iopub.status.busy": "2025-06-03T14:53:10.506591Z",
     "iopub.status.idle": "2025-06-03T14:53:10.515576Z",
     "shell.execute_reply": "2025-06-03T14:53:10.514826Z",
     "shell.execute_reply.started": "2025-06-03T14:53:10.506873Z"
    }
   },
   "outputs": [
    {
     "data": {
      "text/plain": [
       "'s3://sagemaker-eu-west-1-277841471265/data/data_reduced_features/train.csv'"
      ]
     },
     "execution_count": 9,
     "metadata": {},
     "output_type": "execute_result"
    }
   ],
   "source": [
    "# inspect path\n",
    "f\"s3://{bucket}/{prefix}/train.csv\""
   ]
  },
  {
   "cell_type": "code",
   "execution_count": 10,
   "id": "a3119094-b892-4c0e-8404-71c04322a469",
   "metadata": {
    "execution": {
     "iopub.execute_input": "2025-06-03T14:53:12.658270Z",
     "iopub.status.busy": "2025-06-03T14:53:12.657676Z",
     "iopub.status.idle": "2025-06-03T14:56:49.574226Z",
     "shell.execute_reply": "2025-06-03T14:56:49.573517Z",
     "shell.execute_reply.started": "2025-06-03T14:53:12.658244Z"
    },
    "scrolled": true
   },
   "outputs": [
    {
     "name": "stderr",
     "output_type": "stream",
     "text": [
      "INFO:sagemaker:Creating training-job with name: sagemaker-xgboost-2025-06-03-14-53-12-660\n"
     ]
    },
    {
     "name": "stdout",
     "output_type": "stream",
     "text": [
      "2025-06-03 14:53:14 Starting - Starting the training job...\n",
      "2025-06-03 14:53:28 Starting - Preparing the instances for training...\n",
      "2025-06-03 14:53:51 Downloading - Downloading input data...\n",
      "2025-06-03 14:54:41 Downloading - Downloading the training image......\n",
      "2025-06-03 14:55:42 Training - Training image download completed. Training in progress..\u001b[34m[2025-06-03 14:55:43.729 ip-10-0-182-119.eu-west-1.compute.internal:7 INFO utils.py:28] RULE_JOB_STOP_SIGNAL_FILENAME: None\u001b[0m\n",
      "\u001b[34m[2025-06-03 14:55:43.768 ip-10-0-182-119.eu-west-1.compute.internal:7 INFO profiler_config_parser.py:111] User has disabled profiler.\u001b[0m\n",
      "\u001b[34m[2025-06-03:14:55:44:INFO] Imported framework sagemaker_xgboost_container.training\u001b[0m\n",
      "\u001b[34m[2025-06-03:14:55:44:INFO] Failed to parse hyperparameter objective value binary:logistic to Json.\u001b[0m\n",
      "\u001b[34mReturning the value itself\u001b[0m\n",
      "\u001b[34m[2025-06-03:14:55:44:INFO] No GPUs detected (normal if no gpus installed)\u001b[0m\n",
      "\u001b[34m[2025-06-03:14:55:44:INFO] Running XGBoost Sagemaker in algorithm mode\u001b[0m\n",
      "\u001b[34m[2025-06-03:14:55:44:INFO] Determined 0 GPU(s) available on the instance.\u001b[0m\n",
      "\u001b[34m[2025-06-03:14:55:44:INFO] Determined delimiter of CSV input is ','\u001b[0m\n",
      "\u001b[34m[2025-06-03:14:55:44:INFO] Determined delimiter of CSV input is ','\u001b[0m\n",
      "\u001b[34m[2025-06-03:14:55:44:INFO] File path /opt/ml/input/data/train of input files\u001b[0m\n",
      "\u001b[34m[2025-06-03:14:55:44:INFO] Making smlinks from folder /opt/ml/input/data/train to folder /tmp/sagemaker_xgboost_input_data\u001b[0m\n",
      "\u001b[34m[2025-06-03:14:55:44:INFO] creating symlink between Path /opt/ml/input/data/train/train.csv and destination /tmp/sagemaker_xgboost_input_data/train.csv-8104108584923424527\u001b[0m\n",
      "\u001b[34m[2025-06-03:14:55:44:INFO] files path: /tmp/sagemaker_xgboost_input_data\u001b[0m\n",
      "\u001b[34m[2025-06-03:14:55:44:INFO] Determined delimiter of CSV input is ','\u001b[0m\n",
      "\u001b[34m[2025-06-03:14:55:44:INFO] File path /opt/ml/input/data/validation of input files\u001b[0m\n",
      "\u001b[34m[2025-06-03:14:55:44:INFO] Making smlinks from folder /opt/ml/input/data/validation to folder /tmp/sagemaker_xgboost_input_data\u001b[0m\n",
      "\u001b[34m[2025-06-03:14:55:44:INFO] creating symlink between Path /opt/ml/input/data/validation/validation.csv and destination /tmp/sagemaker_xgboost_input_data/validation.csv-8238352504715365189\u001b[0m\n",
      "\u001b[34m[2025-06-03:14:55:44:INFO] files path: /tmp/sagemaker_xgboost_input_data\u001b[0m\n",
      "\u001b[34m[2025-06-03:14:55:44:INFO] Determined delimiter of CSV input is ','\u001b[0m\n",
      "\u001b[34m[2025-06-03:14:55:44:INFO] Distributed node training with 2 hosts: ['algo-1', 'algo-2']\u001b[0m\n",
      "\u001b[34m[2025-06-03:14:55:44:INFO] start listen on algo-1:9099\u001b[0m\n",
      "\u001b[34m[2025-06-03:14:55:44:INFO] Rabit slave environment: {'DMLC_TRACKER_URI': 'algo-1', 'DMLC_TRACKER_PORT': 9099}\u001b[0m\n",
      "\u001b[34m[2025-06-03:14:55:44:INFO] Connected to RabitTracker.\u001b[0m\n",
      "\u001b[34m/miniconda3/lib/python3.9/site-packages/xgboost/rabit.py:23: FutureWarning: The xgboost.rabit submodule is marked as deprecated in 1.7 and will be removed in 2.0. Please use xgboost.collective instead.\n",
      "  warnings.warn(_deprecation_warning(), FutureWarning)\u001b[0m\n",
      "\u001b[34m[2025-06-03:14:55:44:INFO] No data received from connection ('10.0.182.119', 35828). Closing.\u001b[0m\n",
      "\u001b[34m[2025-06-03:14:55:47:INFO] No data received from connection ('10.0.128.15', 50290). Closing.\u001b[0m\n",
      "\u001b[34m[2025-06-03:14:55:47:INFO] Recieve start signal from 10.0.128.15; assign rank 0\u001b[0m\n",
      "\u001b[34m[14:55:47] task NULL got new rank 1\u001b[0m\n",
      "\u001b[34m[2025-06-03:14:55:47:INFO] Recieve start signal from 10.0.182.119; assign rank 1\u001b[0m\n",
      "\u001b[34m[2025-06-03:14:55:47:INFO] @tracker All of 2 nodes getting started\u001b[0m\n",
      "\u001b[34m[2025-06-03:14:55:47:INFO] @tracker All nodes finishes job\u001b[0m\n",
      "\u001b[34m[2025-06-03:14:55:47:INFO] @tracker 0.0006341934204101562 secs between node start and job finish\u001b[0m\n",
      "\u001b[34m[2025-06-03:14:55:47:INFO] start listen on algo-1:9100\u001b[0m\n",
      "\u001b[34m[2025-06-03:14:55:47:INFO] Rabit slave environment: {'DMLC_TRACKER_URI': 'algo-1', 'DMLC_TRACKER_PORT': 9100}\u001b[0m\n",
      "\u001b[34m[2025-06-03:14:55:47:INFO] Connected to RabitTracker.\u001b[0m\n",
      "\u001b[34m[2025-06-03:14:55:47:INFO] No data received from connection ('10.0.182.119', 37166). Closing.\u001b[0m\n",
      "\u001b[35m[2025-06-03 14:55:43.678 ip-10-0-128-15.eu-west-1.compute.internal:6 INFO utils.py:28] RULE_JOB_STOP_SIGNAL_FILENAME: None\u001b[0m\n",
      "\u001b[35m[2025-06-03 14:55:43.701 ip-10-0-128-15.eu-west-1.compute.internal:6 INFO profiler_config_parser.py:111] User has disabled profiler.\u001b[0m\n",
      "\u001b[35m[2025-06-03:14:55:44:INFO] Imported framework sagemaker_xgboost_container.training\u001b[0m\n",
      "\u001b[35m[2025-06-03:14:55:44:INFO] Failed to parse hyperparameter objective value binary:logistic to Json.\u001b[0m\n",
      "\u001b[35mReturning the value itself\u001b[0m\n",
      "\u001b[35m[2025-06-03:14:55:44:INFO] No GPUs detected (normal if no gpus installed)\u001b[0m\n",
      "\u001b[35m[2025-06-03:14:55:44:INFO] Running XGBoost Sagemaker in algorithm mode\u001b[0m\n",
      "\u001b[35m[2025-06-03:14:55:44:INFO] Determined 0 GPU(s) available on the instance.\u001b[0m\n",
      "\u001b[35m[2025-06-03:14:55:44:INFO] Determined delimiter of CSV input is ','\u001b[0m\n",
      "\u001b[35m[2025-06-03:14:55:44:INFO] Determined delimiter of CSV input is ','\u001b[0m\n",
      "\u001b[35m[2025-06-03:14:55:44:INFO] File path /opt/ml/input/data/train of input files\u001b[0m\n",
      "\u001b[35m[2025-06-03:14:55:44:INFO] Making smlinks from folder /opt/ml/input/data/train to folder /tmp/sagemaker_xgboost_input_data\u001b[0m\n",
      "\u001b[35m[2025-06-03:14:55:44:INFO] creating symlink between Path /opt/ml/input/data/train/train.csv and destination /tmp/sagemaker_xgboost_input_data/train.csv8094661224240091047\u001b[0m\n",
      "\u001b[35m[2025-06-03:14:55:44:INFO] files path: /tmp/sagemaker_xgboost_input_data\u001b[0m\n",
      "\u001b[35m[2025-06-03:14:55:44:INFO] Determined delimiter of CSV input is ','\u001b[0m\n",
      "\u001b[35m[2025-06-03:14:55:44:INFO] File path /opt/ml/input/data/validation of input files\u001b[0m\n",
      "\u001b[35m[2025-06-03:14:55:44:INFO] Making smlinks from folder /opt/ml/input/data/validation to folder /tmp/sagemaker_xgboost_input_data\u001b[0m\n",
      "\u001b[35m[2025-06-03:14:55:44:INFO] creating symlink between Path /opt/ml/input/data/validation/validation.csv and destination /tmp/sagemaker_xgboost_input_data/validation.csv-7638171987877873967\u001b[0m\n",
      "\u001b[35m[2025-06-03:14:55:44:INFO] files path: /tmp/sagemaker_xgboost_input_data\u001b[0m\n",
      "\u001b[35m[2025-06-03:14:55:44:INFO] Determined delimiter of CSV input is ','\u001b[0m\n",
      "\u001b[35m[2025-06-03:14:55:44:INFO] Distributed node training with 2 hosts: ['algo-1', 'algo-2']\u001b[0m\n",
      "\u001b[35m[2025-06-03:14:55:44:INFO] Failed to connect to RabitTracker on attempt 0\u001b[0m\n",
      "\u001b[35m[2025-06-03:14:55:44:INFO] Sleeping for 3 sec before retrying\u001b[0m\n",
      "\u001b[35m[2025-06-03:14:55:47:INFO] Connected to RabitTracker.\u001b[0m\n",
      "\u001b[35m/miniconda3/lib/python3.9/site-packages/xgboost/rabit.py:23: FutureWarning: The xgboost.rabit submodule is marked as deprecated in 1.7 and will be removed in 2.0. Please use xgboost.collective instead.\n",
      "  warnings.warn(_deprecation_warning(), FutureWarning)\u001b[0m\n",
      "\u001b[35m[14:55:47] task NULL got new rank 0\u001b[0m\n",
      "\u001b[35m[2025-06-03:14:55:47:INFO] Failed to connect to RabitTracker on attempt 0\u001b[0m\n",
      "\u001b[35m[2025-06-03:14:55:47:INFO] Sleeping for 3 sec before retrying\u001b[0m\n",
      "\u001b[34m[2025-06-03:14:55:50:INFO] No data received from connection ('10.0.128.15', 40128). Closing.\u001b[0m\n",
      "\u001b[35m[2025-06-03:14:55:50:INFO] Connected to RabitTracker.\u001b[0m\n",
      "\u001b[35m[14:55:50] task NULL got new rank 0\u001b[0m\n",
      "\u001b[34m[2025-06-03:14:55:50:INFO] Recieve start signal from 10.0.128.15; assign rank 0\u001b[0m\n",
      "\u001b[34m[14:55:50] task NULL got new rank 1\u001b[0m\n",
      "\u001b[34m[2025-06-03:14:55:50:INFO] Train matrix has 165150 rows and 8 columns\u001b[0m\n",
      "\u001b[34m[2025-06-03:14:55:50:INFO] Validation matrix has 35275 rows\u001b[0m\n",
      "\u001b[34m[2025-06-03 14:55:50.745 ip-10-0-182-119.eu-west-1.compute.internal:7 INFO json_config.py:92] Creating hook from json_config at /opt/ml/input/config/debughookconfig.json.\u001b[0m\n",
      "\u001b[34m[2025-06-03:14:55:50:INFO] Recieve start signal from 10.0.182.119; assign rank 1\u001b[0m\n",
      "\u001b[34m[2025-06-03:14:55:50:INFO] @tracker All of 2 nodes getting started\u001b[0m\n",
      "\u001b[34m[2025-06-03 14:55:50.746 ip-10-0-182-119.eu-west-1.compute.internal:7 INFO hook.py:206] tensorboard_dir has not been set for the hook. SMDebug will not be exporting tensorboard summaries.\u001b[0m\n",
      "\u001b[34m[2025-06-03 14:55:50.747 ip-10-0-182-119.eu-west-1.compute.internal:7 INFO hook.py:259] Saving to /opt/ml/output/tensors\u001b[0m\n",
      "\u001b[34m[2025-06-03 14:55:50.747 ip-10-0-182-119.eu-west-1.compute.internal:7 INFO state_store.py:77] The checkpoint config file /opt/ml/input/config/checkpointconfig.json does not exist.\u001b[0m\n",
      "\u001b[34m[2025-06-03:14:55:50:INFO] Debug hook created from config\u001b[0m\n",
      "\u001b[34m[2025-06-03 14:55:50.965 ip-10-0-182-119.eu-west-1.compute.internal:7 INFO hook.py:427] Monitoring the collections: metrics\u001b[0m\n",
      "\u001b[34m[2025-06-03:14:55:50:INFO] [0]#011train-logloss:0.52919#011validation-logloss:0.52979\u001b[0m\n",
      "\u001b[34m[2025-06-03:14:55:51:INFO] [1]#011train-logloss:0.41785#011validation-logloss:0.41913\u001b[0m\n",
      "\u001b[34m[2025-06-03:14:55:51:INFO] [2]#011train-logloss:0.33687#011validation-logloss:0.33848\u001b[0m\n",
      "\u001b[34m[2025-06-03:14:55:51:INFO] [3]#011train-logloss:0.27696#011validation-logloss:0.27902\u001b[0m\n",
      "\u001b[34m[2025-06-03:14:55:51:INFO] [4]#011train-logloss:0.23148#011validation-logloss:0.23401\u001b[0m\n",
      "\u001b[34m[2025-06-03:14:55:51:INFO] [5]#011train-logloss:0.19573#011validation-logloss:0.19834\u001b[0m\n",
      "\u001b[35m[2025-06-03:14:55:50:INFO] Train matrix has 165150 rows and 8 columns\u001b[0m\n",
      "\u001b[35m[2025-06-03:14:55:50:INFO] Validation matrix has 35275 rows\u001b[0m\n",
      "\u001b[35m[2025-06-03 14:55:50.745 ip-10-0-128-15.eu-west-1.compute.internal:6 INFO json_config.py:92] Creating hook from json_config at /opt/ml/input/config/debughookconfig.json.\u001b[0m\n",
      "\u001b[35m[2025-06-03 14:55:50.746 ip-10-0-128-15.eu-west-1.compute.internal:6 INFO hook.py:206] tensorboard_dir has not been set for the hook. SMDebug will not be exporting tensorboard summaries.\u001b[0m\n",
      "\u001b[35m[2025-06-03 14:55:50.747 ip-10-0-128-15.eu-west-1.compute.internal:6 INFO hook.py:259] Saving to /opt/ml/output/tensors\u001b[0m\n",
      "\u001b[35m[2025-06-03 14:55:50.747 ip-10-0-128-15.eu-west-1.compute.internal:6 INFO state_store.py:77] The checkpoint config file /opt/ml/input/config/checkpointconfig.json does not exist.\u001b[0m\n",
      "\u001b[35m[2025-06-03:14:55:50:INFO] Debug hook created from config\u001b[0m\n",
      "\u001b[35m[2025-06-03 14:55:50.965 ip-10-0-128-15.eu-west-1.compute.internal:6 INFO hook.py:427] Monitoring the collections: metrics\u001b[0m\n",
      "\u001b[34m[2025-06-03:14:55:51:INFO] [6]#011train-logloss:0.16782#011validation-logloss:0.17053\u001b[0m\n",
      "\u001b[34m[2025-06-03:14:55:51:INFO] [7]#011train-logloss:0.14586#011validation-logloss:0.14885\u001b[0m\n",
      "\u001b[34m[2025-06-03:14:55:51:INFO] [8]#011train-logloss:0.12696#011validation-logloss:0.13011\u001b[0m\n",
      "\u001b[34m[2025-06-03:14:55:51:INFO] [9]#011train-logloss:0.11217#011validation-logloss:0.11537\u001b[0m\n",
      "\u001b[34m[2025-06-03:14:55:52:INFO] [10]#011train-logloss:0.09946#011validation-logloss:0.10255\u001b[0m\n",
      "\u001b[34m[2025-06-03:14:55:52:INFO] [11]#011train-logloss:0.08903#011validation-logloss:0.09208\u001b[0m\n",
      "\u001b[34m[2025-06-03:14:55:52:INFO] [12]#011train-logloss:0.08174#011validation-logloss:0.08498\u001b[0m\n",
      "\u001b[34m[2025-06-03:14:55:52:INFO] [13]#011train-logloss:0.07454#011validation-logloss:0.07767\u001b[0m\n",
      "\u001b[34m[2025-06-03:14:55:52:INFO] [14]#011train-logloss:0.06741#011validation-logloss:0.07011\u001b[0m\n",
      "\u001b[34m[2025-06-03:14:55:52:INFO] [15]#011train-logloss:0.06250#011validation-logloss:0.06520\u001b[0m\n",
      "\u001b[34m[2025-06-03:14:55:52:INFO] [16]#011train-logloss:0.05910#011validation-logloss:0.06195\u001b[0m\n",
      "\u001b[34m[2025-06-03:14:55:52:INFO] [17]#011train-logloss:0.05526#011validation-logloss:0.05798\u001b[0m\n",
      "\u001b[34m[2025-06-03:14:55:52:INFO] [18]#011train-logloss:0.05276#011validation-logloss:0.05558\u001b[0m\n",
      "\u001b[34m[2025-06-03:14:55:53:INFO] [19]#011train-logloss:0.05088#011validation-logloss:0.05378\u001b[0m\n",
      "\u001b[34m[2025-06-03:14:55:53:INFO] [20]#011train-logloss:0.04729#011validation-logloss:0.04956\u001b[0m\n",
      "\u001b[34m[2025-06-03:14:55:53:INFO] [21]#011train-logloss:0.04466#011validation-logloss:0.04668\u001b[0m\n",
      "\u001b[34m[2025-06-03:14:55:53:INFO] [22]#011train-logloss:0.04247#011validation-logloss:0.04443\u001b[0m\n",
      "\u001b[34m[2025-06-03:14:55:53:INFO] [23]#011train-logloss:0.04108#011validation-logloss:0.04304\u001b[0m\n",
      "\u001b[34m[2025-06-03:14:55:53:INFO] [24]#011train-logloss:0.04004#011validation-logloss:0.04189\u001b[0m\n",
      "\u001b[34m[2025-06-03:14:55:53:INFO] [25]#011train-logloss:0.03808#011validation-logloss:0.03963\u001b[0m\n",
      "\u001b[34m[2025-06-03:14:55:53:INFO] [26]#011train-logloss:0.03720#011validation-logloss:0.03863\u001b[0m\n",
      "\u001b[34m[2025-06-03:14:55:53:INFO] [27]#011train-logloss:0.03579#011validation-logloss:0.03700\u001b[0m\n",
      "\u001b[34m[2025-06-03:14:55:53:INFO] [28]#011train-logloss:0.03462#011validation-logloss:0.03584\u001b[0m\n",
      "\u001b[34m[2025-06-03:14:55:54:INFO] [29]#011train-logloss:0.03380#011validation-logloss:0.03500\u001b[0m\n",
      "\u001b[34m[2025-06-03:14:55:54:INFO] [30]#011train-logloss:0.03303#011validation-logloss:0.03428\u001b[0m\n",
      "\u001b[34m[2025-06-03:14:55:54:INFO] [31]#011train-logloss:0.03259#011validation-logloss:0.03374\u001b[0m\n",
      "\u001b[34m[2025-06-03:14:55:54:INFO] [32]#011train-logloss:0.03167#011validation-logloss:0.03267\u001b[0m\n",
      "\u001b[34m[2025-06-03:14:55:54:INFO] [33]#011train-logloss:0.03115#011validation-logloss:0.03214\u001b[0m\n",
      "\u001b[34m[2025-06-03:14:55:54:INFO] [34]#011train-logloss:0.03078#011validation-logloss:0.03178\u001b[0m\n",
      "\u001b[34m[2025-06-03:14:55:54:INFO] [35]#011train-logloss:0.03028#011validation-logloss:0.03122\u001b[0m\n",
      "\u001b[34m[2025-06-03:14:55:54:INFO] [36]#011train-logloss:0.03000#011validation-logloss:0.03096\u001b[0m\n",
      "\u001b[34m[2025-06-03:14:55:54:INFO] [37]#011train-logloss:0.02949#011validation-logloss:0.03041\u001b[0m\n",
      "\u001b[34m[2025-06-03:14:55:55:INFO] [38]#011train-logloss:0.02922#011validation-logloss:0.03017\u001b[0m\n",
      "\u001b[34m[2025-06-03:14:55:55:INFO] [39]#011train-logloss:0.02871#011validation-logloss:0.02952\u001b[0m\n",
      "\u001b[34m[2025-06-03:14:55:55:INFO] [40]#011train-logloss:0.02831#011validation-logloss:0.02910\u001b[0m\n",
      "\u001b[34m[2025-06-03:14:55:55:INFO] [41]#011train-logloss:0.02810#011validation-logloss:0.02890\u001b[0m\n",
      "\u001b[34m[2025-06-03:14:55:55:INFO] [42]#011train-logloss:0.02766#011validation-logloss:0.02847\u001b[0m\n",
      "\u001b[34m[2025-06-03:14:55:55:INFO] [43]#011train-logloss:0.02736#011validation-logloss:0.02808\u001b[0m\n",
      "\u001b[34m[2025-06-03:14:55:55:INFO] [44]#011train-logloss:0.02720#011validation-logloss:0.02796\u001b[0m\n",
      "\u001b[34m[2025-06-03:14:55:55:INFO] [45]#011train-logloss:0.02709#011validation-logloss:0.02784\u001b[0m\n",
      "\u001b[34m[2025-06-03:14:55:56:INFO] [46]#011train-logloss:0.02701#011validation-logloss:0.02775\u001b[0m\n",
      "\u001b[34m[2025-06-03:14:55:56:INFO] [47]#011train-logloss:0.02643#011validation-logloss:0.02710\u001b[0m\n",
      "\u001b[34m[2025-06-03:14:55:56:INFO] [48]#011train-logloss:0.02614#011validation-logloss:0.02686\u001b[0m\n",
      "\u001b[34m[2025-06-03:14:55:56:INFO] [49]#011train-logloss:0.02546#011validation-logloss:0.02612\u001b[0m\n",
      "\u001b[34m[2025-06-03:14:55:56:INFO] [50]#011train-logloss:0.02534#011validation-logloss:0.02605\u001b[0m\n",
      "\u001b[34m[2025-06-03:14:55:56:INFO] [51]#011train-logloss:0.02522#011validation-logloss:0.02594\u001b[0m\n",
      "\u001b[34m[2025-06-03:14:55:56:INFO] [52]#011train-logloss:0.02508#011validation-logloss:0.02576\u001b[0m\n",
      "\u001b[34m[2025-06-03:14:55:56:INFO] [53]#011train-logloss:0.02479#011validation-logloss:0.02544\u001b[0m\n",
      "\u001b[34m[2025-06-03:14:55:56:INFO] [54]#011train-logloss:0.02467#011validation-logloss:0.02531\u001b[0m\n",
      "\u001b[34m[2025-06-03:14:55:57:INFO] [55]#011train-logloss:0.02439#011validation-logloss:0.02513\u001b[0m\n",
      "\u001b[34m[2025-06-03:14:55:57:INFO] [56]#011train-logloss:0.02434#011validation-logloss:0.02507\u001b[0m\n",
      "\u001b[34m[2025-06-03:14:55:57:INFO] [57]#011train-logloss:0.02393#011validation-logloss:0.02463\u001b[0m\n",
      "\u001b[34m[2025-06-03:14:55:57:INFO] [58]#011train-logloss:0.02389#011validation-logloss:0.02460\u001b[0m\n",
      "\u001b[34m[2025-06-03:14:55:57:INFO] [59]#011train-logloss:0.02385#011validation-logloss:0.02454\u001b[0m\n",
      "\u001b[34m[2025-06-03:14:55:57:INFO] [60]#011train-logloss:0.02347#011validation-logloss:0.02410\u001b[0m\n",
      "\u001b[34m[2025-06-03:14:55:57:INFO] [61]#011train-logloss:0.02343#011validation-logloss:0.02408\u001b[0m\n",
      "\u001b[34m[2025-06-03:14:55:57:INFO] [62]#011train-logloss:0.02335#011validation-logloss:0.02395\u001b[0m\n",
      "\u001b[34m[2025-06-03:14:55:57:INFO] [63]#011train-logloss:0.02291#011validation-logloss:0.02343\u001b[0m\n",
      "\u001b[34m[2025-06-03:14:55:57:INFO] [64]#011train-logloss:0.02281#011validation-logloss:0.02333\u001b[0m\n",
      "\u001b[34m[2025-06-03:14:55:57:INFO] [65]#011train-logloss:0.02279#011validation-logloss:0.02329\u001b[0m\n",
      "\u001b[34m[2025-06-03:14:55:58:INFO] [66]#011train-logloss:0.02274#011validation-logloss:0.02325\u001b[0m\n",
      "\u001b[34m[2025-06-03:14:55:58:INFO] [67]#011train-logloss:0.02251#011validation-logloss:0.02302\u001b[0m\n",
      "\u001b[34m[2025-06-03:14:55:58:INFO] [68]#011train-logloss:0.02222#011validation-logloss:0.02275\u001b[0m\n",
      "\u001b[34m[2025-06-03:14:55:58:INFO] [69]#011train-logloss:0.02220#011validation-logloss:0.02272\u001b[0m\n",
      "\u001b[34m[2025-06-03:14:55:58:INFO] [70]#011train-logloss:0.02215#011validation-logloss:0.02267\u001b[0m\n",
      "\u001b[34m[2025-06-03:14:55:58:INFO] [71]#011train-logloss:0.02210#011validation-logloss:0.02260\u001b[0m\n",
      "\u001b[34m[2025-06-03:14:55:58:INFO] [72]#011train-logloss:0.02201#011validation-logloss:0.02250\u001b[0m\n",
      "\u001b[34m[2025-06-03:14:55:58:INFO] [73]#011train-logloss:0.02187#011validation-logloss:0.02235\u001b[0m\n",
      "\u001b[34m[2025-06-03:14:55:58:INFO] [74]#011train-logloss:0.02170#011validation-logloss:0.02218\u001b[0m\n",
      "\u001b[34m[2025-06-03:14:55:58:INFO] [75]#011train-logloss:0.02157#011validation-logloss:0.02202\u001b[0m\n",
      "\u001b[34m[2025-06-03:14:55:59:INFO] [76]#011train-logloss:0.02152#011validation-logloss:0.02199\u001b[0m\n",
      "\u001b[34m[2025-06-03:14:55:59:INFO] [77]#011train-logloss:0.02143#011validation-logloss:0.02190\u001b[0m\n",
      "\u001b[34m[2025-06-03:14:55:59:INFO] [78]#011train-logloss:0.02141#011validation-logloss:0.02188\u001b[0m\n",
      "\u001b[34m[2025-06-03:14:55:59:INFO] [79]#011train-logloss:0.02136#011validation-logloss:0.02185\u001b[0m\n",
      "\u001b[34m[2025-06-03:14:55:59:INFO] [80]#011train-logloss:0.02136#011validation-logloss:0.02185\u001b[0m\n",
      "\u001b[34m[2025-06-03:14:55:59:INFO] [81]#011train-logloss:0.02114#011validation-logloss:0.02167\u001b[0m\n",
      "\u001b[34m[2025-06-03:14:55:59:INFO] [82]#011train-logloss:0.02114#011validation-logloss:0.02166\u001b[0m\n",
      "\u001b[34m[2025-06-03:14:55:59:INFO] [83]#011train-logloss:0.02113#011validation-logloss:0.02165\u001b[0m\n",
      "\u001b[34m[2025-06-03:14:55:59:INFO] [84]#011train-logloss:0.02104#011validation-logloss:0.02157\u001b[0m\n",
      "\u001b[34m[2025-06-03:14:55:59:INFO] [85]#011train-logloss:0.02093#011validation-logloss:0.02146\u001b[0m\n",
      "\u001b[34m[2025-06-03:14:55:59:INFO] [86]#011train-logloss:0.02093#011validation-logloss:0.02146\u001b[0m\n",
      "\u001b[34m[2025-06-03:14:55:59:INFO] [87]#011train-logloss:0.02073#011validation-logloss:0.02121\u001b[0m\n",
      "\u001b[34m[2025-06-03:14:56:00:INFO] [88]#011train-logloss:0.02066#011validation-logloss:0.02116\u001b[0m\n",
      "\u001b[34m[2025-06-03:14:56:00:INFO] [89]#011train-logloss:0.02066#011validation-logloss:0.02116\u001b[0m\n",
      "\u001b[34m[2025-06-03:14:56:00:INFO] [90]#011train-logloss:0.02058#011validation-logloss:0.02110\u001b[0m\n",
      "\u001b[34m[2025-06-03:14:56:00:INFO] [91]#011train-logloss:0.02052#011validation-logloss:0.02101\u001b[0m\n",
      "\u001b[34m[2025-06-03:14:56:00:INFO] [92]#011train-logloss:0.02052#011validation-logloss:0.02101\u001b[0m\n",
      "\u001b[34m[2025-06-03:14:56:00:INFO] [93]#011train-logloss:0.02052#011validation-logloss:0.02101\u001b[0m\n",
      "\u001b[34m[2025-06-03:14:56:00:INFO] [94]#011train-logloss:0.02052#011validation-logloss:0.02101\u001b[0m\n",
      "\u001b[34m[2025-06-03:14:56:00:INFO] [95]#011train-logloss:0.02042#011validation-logloss:0.02086\u001b[0m\n",
      "\u001b[34m[2025-06-03:14:56:00:INFO] [96]#011train-logloss:0.02041#011validation-logloss:0.02086\u001b[0m\n",
      "\u001b[34m[2025-06-03:14:56:00:INFO] [97]#011train-logloss:0.02037#011validation-logloss:0.02082\u001b[0m\n",
      "\u001b[34m[2025-06-03:14:56:00:INFO] [98]#011train-logloss:0.02036#011validation-logloss:0.02081\u001b[0m\n",
      "\u001b[34m[2025-06-03:14:56:00:INFO] [99]#011train-logloss:0.02026#011validation-logloss:0.02072\u001b[0m\n",
      "\u001b[34m[2025-06-03:14:56:01:INFO] [100]#011train-logloss:0.02018#011validation-logloss:0.02063\u001b[0m\n",
      "\u001b[34m[2025-06-03:14:56:01:INFO] [101]#011train-logloss:0.02014#011validation-logloss:0.02060\u001b[0m\n",
      "\u001b[34m[2025-06-03:14:56:01:INFO] [102]#011train-logloss:0.01999#011validation-logloss:0.02042\u001b[0m\n",
      "\u001b[34m[2025-06-03:14:56:01:INFO] [103]#011train-logloss:0.01998#011validation-logloss:0.02042\u001b[0m\n",
      "\u001b[34m[2025-06-03:14:56:01:INFO] [104]#011train-logloss:0.01998#011validation-logloss:0.02042\u001b[0m\n",
      "\u001b[34m[2025-06-03:14:56:01:INFO] [105]#011train-logloss:0.01992#011validation-logloss:0.02036\u001b[0m\n",
      "\u001b[34m[2025-06-03:14:56:01:INFO] [106]#011train-logloss:0.01992#011validation-logloss:0.02036\u001b[0m\n",
      "\u001b[34m[2025-06-03:14:56:01:INFO] [107]#011train-logloss:0.01992#011validation-logloss:0.02036\u001b[0m\n",
      "\u001b[34m[2025-06-03:14:56:01:INFO] [108]#011train-logloss:0.01992#011validation-logloss:0.02036\u001b[0m\n",
      "\u001b[34m[2025-06-03:14:56:01:INFO] [109]#011train-logloss:0.01980#011validation-logloss:0.02024\u001b[0m\n",
      "\u001b[34m[2025-06-03:14:56:02:INFO] [110]#011train-logloss:0.01980#011validation-logloss:0.02024\u001b[0m\n",
      "\u001b[34m[2025-06-03:14:56:02:INFO] [111]#011train-logloss:0.01967#011validation-logloss:0.02018\u001b[0m\n",
      "\u001b[34m[2025-06-03:14:56:02:INFO] [112]#011train-logloss:0.01967#011validation-logloss:0.02018\u001b[0m\n",
      "\u001b[34m[2025-06-03:14:56:02:INFO] [113]#011train-logloss:0.01966#011validation-logloss:0.02017\u001b[0m\n",
      "\u001b[34m[2025-06-03:14:56:02:INFO] [114]#011train-logloss:0.01966#011validation-logloss:0.02017\u001b[0m\n",
      "\u001b[34m[2025-06-03:14:56:02:INFO] [115]#011train-logloss:0.01960#011validation-logloss:0.02011\u001b[0m\n",
      "\u001b[34m[2025-06-03:14:56:02:INFO] [116]#011train-logloss:0.01947#011validation-logloss:0.01999\u001b[0m\n",
      "\u001b[34m[2025-06-03:14:56:02:INFO] [117]#011train-logloss:0.01947#011validation-logloss:0.01998\u001b[0m\n",
      "\u001b[34m[2025-06-03:14:56:02:INFO] [118]#011train-logloss:0.01947#011validation-logloss:0.01998\u001b[0m\n",
      "\u001b[34m[2025-06-03:14:56:02:INFO] [119]#011train-logloss:0.01947#011validation-logloss:0.01998\u001b[0m\n",
      "\u001b[34m[2025-06-03:14:56:03:INFO] [120]#011train-logloss:0.01933#011validation-logloss:0.01988\u001b[0m\n",
      "\u001b[34m[2025-06-03:14:56:03:INFO] [121]#011train-logloss:0.01933#011validation-logloss:0.01988\u001b[0m\n",
      "\u001b[34m[2025-06-03:14:56:03:INFO] [122]#011train-logloss:0.01933#011validation-logloss:0.01988\u001b[0m\n",
      "\u001b[34m[2025-06-03:14:56:03:INFO] [123]#011train-logloss:0.01933#011validation-logloss:0.01988\u001b[0m\n",
      "\u001b[34m[2025-06-03:14:56:03:INFO] [124]#011train-logloss:0.01927#011validation-logloss:0.01981\u001b[0m\n",
      "\u001b[34m[2025-06-03:14:56:03:INFO] [125]#011train-logloss:0.01927#011validation-logloss:0.01981\u001b[0m\n",
      "\u001b[34m[2025-06-03:14:56:03:INFO] [126]#011train-logloss:0.01926#011validation-logloss:0.01980\u001b[0m\n",
      "\u001b[34m[2025-06-03:14:56:03:INFO] [127]#011train-logloss:0.01926#011validation-logloss:0.01980\u001b[0m\n",
      "\u001b[34m[2025-06-03:14:56:03:INFO] [128]#011train-logloss:0.01926#011validation-logloss:0.01979\u001b[0m\n",
      "\u001b[34m[2025-06-03:14:56:03:INFO] [129]#011train-logloss:0.01924#011validation-logloss:0.01978\u001b[0m\n",
      "\u001b[34m[2025-06-03:14:56:03:INFO] [130]#011train-logloss:0.01924#011validation-logloss:0.01978\u001b[0m\n",
      "\u001b[34m[2025-06-03:14:56:03:INFO] [131]#011train-logloss:0.01924#011validation-logloss:0.01977\u001b[0m\n",
      "\u001b[34m[2025-06-03:14:56:03:INFO] [132]#011train-logloss:0.01924#011validation-logloss:0.01977\u001b[0m\n",
      "\u001b[34m[2025-06-03:14:56:04:INFO] [133]#011train-logloss:0.01921#011validation-logloss:0.01973\u001b[0m\n",
      "\u001b[34m[2025-06-03:14:56:04:INFO] [134]#011train-logloss:0.01921#011validation-logloss:0.01973\u001b[0m\n",
      "\u001b[34m[2025-06-03:14:56:04:INFO] [135]#011train-logloss:0.01921#011validation-logloss:0.01973\u001b[0m\n",
      "\u001b[34m[2025-06-03:14:56:04:INFO] [136]#011train-logloss:0.01921#011validation-logloss:0.01973\u001b[0m\n",
      "\u001b[34m[2025-06-03:14:56:04:INFO] [137]#011train-logloss:0.01921#011validation-logloss:0.01973\u001b[0m\n",
      "\u001b[34m[2025-06-03:14:56:04:INFO] [138]#011train-logloss:0.01921#011validation-logloss:0.01973\u001b[0m\n",
      "\u001b[34m[2025-06-03:14:56:04:INFO] [139]#011train-logloss:0.01921#011validation-logloss:0.01973\u001b[0m\n",
      "\u001b[34m[2025-06-03:14:56:04:INFO] [140]#011train-logloss:0.01921#011validation-logloss:0.01973\u001b[0m\n",
      "\u001b[34m[2025-06-03:14:56:04:INFO] [141]#011train-logloss:0.01921#011validation-logloss:0.01973\u001b[0m\n",
      "\u001b[34m[2025-06-03:14:56:04:INFO] [142]#011train-logloss:0.01921#011validation-logloss:0.01973\u001b[0m\n",
      "\u001b[34m[2025-06-03:14:56:04:INFO] [143]#011train-logloss:0.01919#011validation-logloss:0.01972\u001b[0m\n",
      "\u001b[34m[2025-06-03:14:56:04:INFO] [144]#011train-logloss:0.01919#011validation-logloss:0.01972\u001b[0m\n",
      "\u001b[34m[2025-06-03:14:56:05:INFO] [145]#011train-logloss:0.01911#011validation-logloss:0.01966\u001b[0m\n",
      "\u001b[34m[2025-06-03:14:56:05:INFO] [146]#011train-logloss:0.01911#011validation-logloss:0.01966\u001b[0m\n",
      "\u001b[34m[2025-06-03:14:56:05:INFO] [147]#011train-logloss:0.01907#011validation-logloss:0.01962\u001b[0m\n",
      "\u001b[34m[2025-06-03:14:56:05:INFO] [148]#011train-logloss:0.01901#011validation-logloss:0.01956\u001b[0m\n",
      "\u001b[34m[2025-06-03:14:56:05:INFO] [149]#011train-logloss:0.01901#011validation-logloss:0.01955\u001b[0m\n",
      "\u001b[34m[2025-06-03:14:56:05:INFO] [150]#011train-logloss:0.01900#011validation-logloss:0.01954\u001b[0m\n",
      "\u001b[34m[2025-06-03:14:56:05:INFO] [151]#011train-logloss:0.01900#011validation-logloss:0.01954\u001b[0m\n",
      "\u001b[34m[2025-06-03:14:56:05:INFO] [152]#011train-logloss:0.01900#011validation-logloss:0.01954\u001b[0m\n",
      "\u001b[34m[2025-06-03:14:56:05:INFO] [153]#011train-logloss:0.01900#011validation-logloss:0.01954\u001b[0m\n",
      "\u001b[34m[2025-06-03:14:56:05:INFO] [154]#011train-logloss:0.01896#011validation-logloss:0.01949\u001b[0m\n",
      "\u001b[34m[2025-06-03:14:56:05:INFO] [155]#011train-logloss:0.01896#011validation-logloss:0.01949\u001b[0m\n",
      "\u001b[34m[2025-06-03:14:56:05:INFO] [156]#011train-logloss:0.01896#011validation-logloss:0.01949\u001b[0m\n",
      "\u001b[34m[2025-06-03:14:56:06:INFO] [157]#011train-logloss:0.01896#011validation-logloss:0.01949\u001b[0m\n",
      "\u001b[34m[2025-06-03:14:56:06:INFO] [158]#011train-logloss:0.01896#011validation-logloss:0.01948\u001b[0m\n",
      "\u001b[34m[2025-06-03:14:56:06:INFO] [159]#011train-logloss:0.01887#011validation-logloss:0.01946\u001b[0m\n",
      "\u001b[34m[2025-06-03:14:56:06:INFO] [160]#011train-logloss:0.01887#011validation-logloss:0.01946\u001b[0m\n",
      "\u001b[34m[2025-06-03:14:56:06:INFO] [161]#011train-logloss:0.01887#011validation-logloss:0.01946\u001b[0m\n",
      "\u001b[34m[2025-06-03:14:56:06:INFO] [162]#011train-logloss:0.01887#011validation-logloss:0.01946\u001b[0m\n",
      "\u001b[34m[2025-06-03:14:56:06:INFO] [163]#011train-logloss:0.01887#011validation-logloss:0.01946\u001b[0m\n",
      "\u001b[34m[2025-06-03:14:56:06:INFO] [164]#011train-logloss:0.01887#011validation-logloss:0.01946\u001b[0m\n",
      "\u001b[34m[2025-06-03:14:56:06:INFO] [165]#011train-logloss:0.01887#011validation-logloss:0.01946\u001b[0m\n",
      "\u001b[34m[2025-06-03:14:56:06:INFO] [166]#011train-logloss:0.01887#011validation-logloss:0.01946\u001b[0m\n",
      "\u001b[34m[2025-06-03:14:56:06:INFO] [167]#011train-logloss:0.01887#011validation-logloss:0.01946\u001b[0m\n",
      "\u001b[34m[2025-06-03:14:56:06:INFO] [168]#011train-logloss:0.01887#011validation-logloss:0.01946\u001b[0m\n",
      "\u001b[34m[2025-06-03:14:56:06:INFO] [169]#011train-logloss:0.01887#011validation-logloss:0.01946\u001b[0m\n",
      "\u001b[34m[2025-06-03:14:56:07:INFO] [170]#011train-logloss:0.01887#011validation-logloss:0.01946\u001b[0m\n",
      "\u001b[34m[2025-06-03:14:56:07:INFO] [171]#011train-logloss:0.01884#011validation-logloss:0.01940\u001b[0m\n",
      "\u001b[34m[2025-06-03:14:56:07:INFO] [172]#011train-logloss:0.01884#011validation-logloss:0.01940\u001b[0m\n",
      "\u001b[34m[2025-06-03:14:56:07:INFO] [173]#011train-logloss:0.01884#011validation-logloss:0.01940\u001b[0m\n",
      "\u001b[34m[2025-06-03:14:56:07:INFO] [174]#011train-logloss:0.01884#011validation-logloss:0.01940\u001b[0m\n",
      "\u001b[34m[2025-06-03:14:56:07:INFO] [175]#011train-logloss:0.01884#011validation-logloss:0.01940\u001b[0m\n",
      "\u001b[34m[2025-06-03:14:56:07:INFO] [176]#011train-logloss:0.01884#011validation-logloss:0.01939\u001b[0m\n",
      "\u001b[34m[2025-06-03:14:56:07:INFO] [177]#011train-logloss:0.01884#011validation-logloss:0.01939\u001b[0m\n",
      "\u001b[34m[2025-06-03:14:56:07:INFO] [178]#011train-logloss:0.01884#011validation-logloss:0.01939\u001b[0m\n",
      "\u001b[34m[2025-06-03:14:56:07:INFO] [179]#011train-logloss:0.01884#011validation-logloss:0.01939\u001b[0m\n",
      "\u001b[34m[2025-06-03:14:56:07:INFO] [180]#011train-logloss:0.01884#011validation-logloss:0.01939\u001b[0m\n",
      "\u001b[34m[2025-06-03:14:56:07:INFO] [181]#011train-logloss:0.01884#011validation-logloss:0.01939\u001b[0m\n",
      "\u001b[34m[2025-06-03:14:56:08:INFO] [182]#011train-logloss:0.01874#011validation-logloss:0.01935\u001b[0m\n",
      "\u001b[34m[2025-06-03:14:56:08:INFO] [183]#011train-logloss:0.01874#011validation-logloss:0.01935\u001b[0m\n",
      "\u001b[34m[2025-06-03:14:56:08:INFO] [184]#011train-logloss:0.01874#011validation-logloss:0.01935\u001b[0m\n",
      "\u001b[34m[2025-06-03:14:56:08:INFO] [185]#011train-logloss:0.01874#011validation-logloss:0.01935\u001b[0m\n",
      "\u001b[34m[2025-06-03:14:56:08:INFO] [186]#011train-logloss:0.01874#011validation-logloss:0.01935\u001b[0m\n",
      "\u001b[34m[2025-06-03:14:56:08:INFO] [187]#011train-logloss:0.01874#011validation-logloss:0.01935\u001b[0m\n",
      "\u001b[34m[2025-06-03:14:56:08:INFO] [188]#011train-logloss:0.01874#011validation-logloss:0.01935\u001b[0m\n",
      "\u001b[34m[2025-06-03:14:56:08:INFO] [189]#011train-logloss:0.01874#011validation-logloss:0.01935\u001b[0m\n",
      "\u001b[34m[2025-06-03:14:56:08:INFO] [190]#011train-logloss:0.01874#011validation-logloss:0.01935\u001b[0m\n",
      "\u001b[34m[2025-06-03:14:56:08:INFO] [191]#011train-logloss:0.01874#011validation-logloss:0.01935\u001b[0m\n",
      "\u001b[34m[2025-06-03:14:56:08:INFO] [192]#011train-logloss:0.01874#011validation-logloss:0.01935\u001b[0m\n",
      "\u001b[34m[2025-06-03:14:56:08:INFO] [193]#011train-logloss:0.01874#011validation-logloss:0.01935\u001b[0m\n",
      "\u001b[34m[2025-06-03:14:56:08:INFO] [194]#011train-logloss:0.01869#011validation-logloss:0.01930\u001b[0m\n",
      "\u001b[34m[2025-06-03:14:56:09:INFO] [195]#011train-logloss:0.01867#011validation-logloss:0.01929\u001b[0m\n",
      "\u001b[34m[2025-06-03:14:56:09:INFO] [196]#011train-logloss:0.01867#011validation-logloss:0.01929\u001b[0m\n",
      "\u001b[34m[2025-06-03:14:56:09:INFO] [197]#011train-logloss:0.01867#011validation-logloss:0.01929\u001b[0m\n",
      "\u001b[34m[2025-06-03:14:56:09:INFO] [198]#011train-logloss:0.01867#011validation-logloss:0.01929\u001b[0m\n",
      "\u001b[34m[2025-06-03:14:56:09:INFO] [199]#011train-logloss:0.01859#011validation-logloss:0.01924\u001b[0m\n",
      "\u001b[34m[2025-06-03:14:56:09:INFO] [200]#011train-logloss:0.01859#011validation-logloss:0.01924\u001b[0m\n",
      "\u001b[34m[2025-06-03:14:56:09:INFO] [201]#011train-logloss:0.01859#011validation-logloss:0.01925\u001b[0m\n",
      "\u001b[34m[2025-06-03:14:56:09:INFO] [202]#011train-logloss:0.01859#011validation-logloss:0.01925\u001b[0m\n",
      "\u001b[34m[2025-06-03:14:56:09:INFO] [203]#011train-logloss:0.01859#011validation-logloss:0.01925\u001b[0m\n",
      "\u001b[34m[2025-06-03:14:56:09:INFO] [204]#011train-logloss:0.01858#011validation-logloss:0.01924\u001b[0m\n",
      "\u001b[34m[2025-06-03:14:56:09:INFO] [205]#011train-logloss:0.01858#011validation-logloss:0.01924\u001b[0m\n",
      "\u001b[34m[2025-06-03:14:56:09:INFO] [206]#011train-logloss:0.01858#011validation-logloss:0.01924\u001b[0m\n",
      "\u001b[34m[2025-06-03:14:56:09:INFO] [207]#011train-logloss:0.01858#011validation-logloss:0.01924\u001b[0m\n",
      "\u001b[34m[2025-06-03:14:56:10:INFO] [208]#011train-logloss:0.01858#011validation-logloss:0.01924\u001b[0m\n",
      "\u001b[34m[2025-06-03:14:56:10:INFO] [209]#011train-logloss:0.01858#011validation-logloss:0.01924\u001b[0m\n",
      "\u001b[34m[2025-06-03:14:56:10:INFO] [210]#011train-logloss:0.01856#011validation-logloss:0.01924\u001b[0m\n",
      "\u001b[34m[2025-06-03:14:56:10:INFO] [211]#011train-logloss:0.01851#011validation-logloss:0.01921\u001b[0m\n",
      "\u001b[34m[2025-06-03:14:56:10:INFO] [212]#011train-logloss:0.01849#011validation-logloss:0.01918\u001b[0m\n",
      "\u001b[34m[2025-06-03:14:56:10:INFO] [213]#011train-logloss:0.01843#011validation-logloss:0.01914\u001b[0m\n",
      "\u001b[34m[2025-06-03:14:56:10:INFO] [214]#011train-logloss:0.01843#011validation-logloss:0.01914\u001b[0m\n",
      "\u001b[34m[2025-06-03:14:56:10:INFO] [215]#011train-logloss:0.01843#011validation-logloss:0.01914\u001b[0m\n",
      "\u001b[34m[2025-06-03:14:56:10:INFO] [216]#011train-logloss:0.01843#011validation-logloss:0.01915\u001b[0m\n",
      "\u001b[34m[2025-06-03:14:56:10:INFO] [217]#011train-logloss:0.01843#011validation-logloss:0.01915\u001b[0m\n",
      "\u001b[34m[2025-06-03:14:56:10:INFO] [218]#011train-logloss:0.01843#011validation-logloss:0.01915\u001b[0m\n",
      "\u001b[34m[2025-06-03:14:56:10:INFO] [219]#011train-logloss:0.01843#011validation-logloss:0.01915\u001b[0m\n",
      "\u001b[34m[2025-06-03:14:56:11:INFO] [220]#011train-logloss:0.01843#011validation-logloss:0.01915\u001b[0m\n",
      "\u001b[34m[2025-06-03:14:56:11:INFO] [221]#011train-logloss:0.01843#011validation-logloss:0.01915\u001b[0m\n",
      "\u001b[34m[2025-06-03:14:56:11:INFO] [222]#011train-logloss:0.01843#011validation-logloss:0.01915\u001b[0m\n",
      "\u001b[34m[2025-06-03:14:56:11:INFO] [223]#011train-logloss:0.01843#011validation-logloss:0.01915\u001b[0m\n",
      "\u001b[34m[2025-06-03:14:56:11:INFO] [224]#011train-logloss:0.01843#011validation-logloss:0.01915\u001b[0m\n",
      "\u001b[34m[2025-06-03:14:56:11:INFO] [225]#011train-logloss:0.01841#011validation-logloss:0.01913\u001b[0m\n",
      "\u001b[34m[2025-06-03:14:56:11:INFO] [226]#011train-logloss:0.01841#011validation-logloss:0.01913\u001b[0m\n",
      "\u001b[34m[2025-06-03:14:56:11:INFO] [227]#011train-logloss:0.01841#011validation-logloss:0.01913\u001b[0m\n",
      "\u001b[34m[2025-06-03:14:56:11:INFO] [228]#011train-logloss:0.01841#011validation-logloss:0.01913\u001b[0m\n",
      "\u001b[34m[2025-06-03:14:56:11:INFO] [229]#011train-logloss:0.01840#011validation-logloss:0.01912\u001b[0m\n",
      "\u001b[34m[2025-06-03:14:56:11:INFO] [230]#011train-logloss:0.01840#011validation-logloss:0.01912\u001b[0m\n",
      "\u001b[34m[2025-06-03:14:56:11:INFO] [231]#011train-logloss:0.01840#011validation-logloss:0.01912\u001b[0m\n",
      "\u001b[34m[2025-06-03:14:56:11:INFO] [232]#011train-logloss:0.01840#011validation-logloss:0.01912\u001b[0m\n",
      "\u001b[34m[2025-06-03:14:56:12:INFO] [233]#011train-logloss:0.01840#011validation-logloss:0.01912\u001b[0m\n",
      "\u001b[34m[2025-06-03:14:56:12:INFO] [234]#011train-logloss:0.01840#011validation-logloss:0.01912\u001b[0m\n",
      "\u001b[34m[2025-06-03:14:56:12:INFO] [235]#011train-logloss:0.01840#011validation-logloss:0.01912\u001b[0m\n",
      "\u001b[34m[2025-06-03:14:56:12:INFO] [236]#011train-logloss:0.01840#011validation-logloss:0.01912\u001b[0m\n",
      "\u001b[34m[2025-06-03:14:56:12:INFO] [237]#011train-logloss:0.01840#011validation-logloss:0.01912\u001b[0m\n",
      "\u001b[34m[2025-06-03:14:56:12:INFO] [238]#011train-logloss:0.01840#011validation-logloss:0.01912\u001b[0m\n",
      "\u001b[34m[2025-06-03:14:56:12:INFO] [239]#011train-logloss:0.01839#011validation-logloss:0.01910\u001b[0m\n",
      "\u001b[34m[2025-06-03:14:56:12:INFO] [240]#011train-logloss:0.01839#011validation-logloss:0.01910\u001b[0m\n",
      "\u001b[34m[2025-06-03:14:56:12:INFO] [241]#011train-logloss:0.01836#011validation-logloss:0.01912\u001b[0m\n",
      "\u001b[34m[2025-06-03:14:56:12:INFO] [242]#011train-logloss:0.01835#011validation-logloss:0.01912\u001b[0m\n",
      "\u001b[34m[2025-06-03:14:56:12:INFO] [243]#011train-logloss:0.01835#011validation-logloss:0.01912\u001b[0m\n",
      "\u001b[34m[2025-06-03:14:56:12:INFO] [244]#011train-logloss:0.01833#011validation-logloss:0.01910\u001b[0m\n",
      "\u001b[34m[2025-06-03:14:56:13:INFO] [245]#011train-logloss:0.01833#011validation-logloss:0.01911\u001b[0m\n",
      "\u001b[34m[2025-06-03:14:56:13:INFO] [246]#011train-logloss:0.01833#011validation-logloss:0.01911\u001b[0m\n",
      "\u001b[34m[2025-06-03:14:56:13:INFO] [247]#011train-logloss:0.01833#011validation-logloss:0.01910\u001b[0m\n",
      "\u001b[34m[2025-06-03:14:56:13:INFO] [248]#011train-logloss:0.01833#011validation-logloss:0.01911\u001b[0m\n",
      "\u001b[34m[2025-06-03:14:56:13:INFO] [249]#011train-logloss:0.01831#011validation-logloss:0.01909\u001b[0m\n",
      "\u001b[34m[2025-06-03:14:56:13:INFO] [250]#011train-logloss:0.01831#011validation-logloss:0.01909\u001b[0m\n",
      "\u001b[34m[2025-06-03:14:56:13:INFO] [251]#011train-logloss:0.01825#011validation-logloss:0.01903\u001b[0m\n",
      "\u001b[34m[2025-06-03:14:56:13:INFO] [252]#011train-logloss:0.01825#011validation-logloss:0.01903\u001b[0m\n",
      "\u001b[34m[2025-06-03:14:56:13:INFO] [253]#011train-logloss:0.01825#011validation-logloss:0.01903\u001b[0m\n",
      "\u001b[34m[2025-06-03:14:56:13:INFO] [254]#011train-logloss:0.01825#011validation-logloss:0.01903\u001b[0m\n",
      "\u001b[34m[2025-06-03:14:56:13:INFO] [255]#011train-logloss:0.01825#011validation-logloss:0.01903\u001b[0m\n",
      "\u001b[34m[2025-06-03:14:56:13:INFO] [256]#011train-logloss:0.01825#011validation-logloss:0.01903\u001b[0m\n",
      "\u001b[34m[2025-06-03:14:56:14:INFO] [257]#011train-logloss:0.01825#011validation-logloss:0.01903\u001b[0m\n",
      "\u001b[34m[2025-06-03:14:56:14:INFO] [258]#011train-logloss:0.01822#011validation-logloss:0.01900\u001b[0m\n",
      "\u001b[34m[2025-06-03:14:56:14:INFO] [259]#011train-logloss:0.01822#011validation-logloss:0.01900\u001b[0m\n",
      "\u001b[34m[2025-06-03:14:56:14:INFO] [260]#011train-logloss:0.01822#011validation-logloss:0.01900\u001b[0m\n",
      "\u001b[34m[2025-06-03:14:56:14:INFO] [261]#011train-logloss:0.01821#011validation-logloss:0.01900\u001b[0m\n",
      "\u001b[34m[2025-06-03:14:56:14:INFO] [262]#011train-logloss:0.01821#011validation-logloss:0.01900\u001b[0m\n",
      "\u001b[34m[2025-06-03:14:56:14:INFO] [263]#011train-logloss:0.01821#011validation-logloss:0.01900\u001b[0m\n",
      "\u001b[34m[2025-06-03:14:56:14:INFO] [264]#011train-logloss:0.01820#011validation-logloss:0.01900\u001b[0m\n",
      "\u001b[34m[2025-06-03:14:56:14:INFO] [265]#011train-logloss:0.01820#011validation-logloss:0.01900\u001b[0m\n",
      "\u001b[34m[2025-06-03:14:56:14:INFO] [266]#011train-logloss:0.01820#011validation-logloss:0.01900\u001b[0m\n",
      "\u001b[34m[2025-06-03:14:56:14:INFO] [267]#011train-logloss:0.01820#011validation-logloss:0.01900\u001b[0m\n",
      "\u001b[34m[2025-06-03:14:56:14:INFO] [268]#011train-logloss:0.01817#011validation-logloss:0.01899\u001b[0m\n",
      "\u001b[34m[2025-06-03:14:56:14:INFO] [269]#011train-logloss:0.01817#011validation-logloss:0.01899\u001b[0m\n",
      "\u001b[34m[2025-06-03:14:56:15:INFO] [270]#011train-logloss:0.01817#011validation-logloss:0.01899\u001b[0m\n",
      "\u001b[34m[2025-06-03:14:56:15:INFO] [271]#011train-logloss:0.01817#011validation-logloss:0.01899\u001b[0m\n",
      "\u001b[34m[2025-06-03:14:56:15:INFO] [272]#011train-logloss:0.01817#011validation-logloss:0.01899\u001b[0m\n",
      "\u001b[34m[2025-06-03:14:56:15:INFO] [273]#011train-logloss:0.01817#011validation-logloss:0.01899\u001b[0m\n",
      "\u001b[34m[2025-06-03:14:56:15:INFO] [274]#011train-logloss:0.01816#011validation-logloss:0.01898\u001b[0m\n",
      "\u001b[34m[2025-06-03:14:56:15:INFO] [275]#011train-logloss:0.01816#011validation-logloss:0.01898\u001b[0m\n",
      "\u001b[34m[2025-06-03:14:56:15:INFO] [276]#011train-logloss:0.01814#011validation-logloss:0.01897\u001b[0m\n",
      "\u001b[34m[2025-06-03:14:56:15:INFO] [277]#011train-logloss:0.01812#011validation-logloss:0.01895\u001b[0m\n",
      "\u001b[34m[2025-06-03:14:56:15:INFO] [278]#011train-logloss:0.01812#011validation-logloss:0.01895\u001b[0m\n",
      "\u001b[34m[2025-06-03:14:56:15:INFO] [279]#011train-logloss:0.01812#011validation-logloss:0.01895\u001b[0m\n",
      "\u001b[34m[2025-06-03:14:56:15:INFO] [280]#011train-logloss:0.01812#011validation-logloss:0.01895\u001b[0m\n",
      "\u001b[34m[2025-06-03:14:56:15:INFO] [281]#011train-logloss:0.01809#011validation-logloss:0.01891\u001b[0m\n",
      "\u001b[34m[2025-06-03:14:56:16:INFO] [282]#011train-logloss:0.01809#011validation-logloss:0.01891\u001b[0m\n",
      "\u001b[34m[2025-06-03:14:56:16:INFO] [283]#011train-logloss:0.01809#011validation-logloss:0.01891\u001b[0m\n",
      "\u001b[34m[2025-06-03:14:56:16:INFO] [284]#011train-logloss:0.01809#011validation-logloss:0.01891\u001b[0m\n",
      "\u001b[34m[2025-06-03:14:56:16:INFO] [285]#011train-logloss:0.01809#011validation-logloss:0.01892\u001b[0m\n",
      "\u001b[34m[2025-06-03:14:56:16:INFO] [286]#011train-logloss:0.01806#011validation-logloss:0.01890\u001b[0m\n",
      "\u001b[34m[2025-06-03:14:56:16:INFO] [287]#011train-logloss:0.01806#011validation-logloss:0.01890\u001b[0m\n",
      "\u001b[34m[2025-06-03:14:56:16:INFO] [288]#011train-logloss:0.01806#011validation-logloss:0.01890\u001b[0m\n",
      "\u001b[34m[2025-06-03:14:56:16:INFO] [289]#011train-logloss:0.01806#011validation-logloss:0.01890\u001b[0m\n",
      "\u001b[34m[2025-06-03:14:56:16:INFO] [290]#011train-logloss:0.01806#011validation-logloss:0.01890\u001b[0m\n",
      "\u001b[34m[2025-06-03:14:56:16:INFO] [291]#011train-logloss:0.01806#011validation-logloss:0.01890\u001b[0m\n",
      "\u001b[34m[2025-06-03:14:56:16:INFO] [292]#011train-logloss:0.01801#011validation-logloss:0.01886\u001b[0m\n",
      "\u001b[34m[2025-06-03:14:56:16:INFO] [293]#011train-logloss:0.01801#011validation-logloss:0.01885\u001b[0m\n",
      "\u001b[34m[2025-06-03:14:56:16:INFO] [294]#011train-logloss:0.01801#011validation-logloss:0.01885\u001b[0m\n",
      "\u001b[34m[2025-06-03:14:56:17:INFO] [295]#011train-logloss:0.01800#011validation-logloss:0.01885\u001b[0m\n",
      "\u001b[34m[2025-06-03:14:56:17:INFO] [296]#011train-logloss:0.01790#011validation-logloss:0.01877\u001b[0m\n",
      "\u001b[34m[2025-06-03:14:56:17:INFO] [297]#011train-logloss:0.01787#011validation-logloss:0.01876\u001b[0m\n",
      "\u001b[34m[2025-06-03:14:56:17:INFO] [298]#011train-logloss:0.01787#011validation-logloss:0.01876\u001b[0m\n",
      "\u001b[34m[2025-06-03:14:56:17:INFO] [299]#011train-logloss:0.01787#011validation-logloss:0.01876\u001b[0m\n",
      "\u001b[34m[2025-06-03:14:56:17:INFO] @tracker All nodes finishes job\u001b[0m\n",
      "\u001b[34m[2025-06-03:14:56:17:INFO] @tracker 26.665128231048584 secs between node start and job finish\u001b[0m\n",
      "\n",
      "2025-06-03 14:56:35 Uploading - Uploading generated training model\n",
      "2025-06-03 14:56:35 Completed - Training job completed\n",
      "Training seconds: 330\n",
      "Billable seconds: 330\n"
     ]
    }
   ],
   "source": [
    "estimator.fit({'train': train_input, 'validation': validation_input}, wait=True, logs=\"All\")"
   ]
  },
  {
   "cell_type": "markdown",
   "id": "84ba7b44-45f2-4d83-be31-7df166750e28",
   "metadata": {},
   "source": [
    "model data saved to `s3://sagemaker-eu-west-1-277841471265/models/xgboost/v2/sagemaker-xgboost-2025-06-03-14-53-12-660/output/model.tar.gz`\n",
    "\n",
    "# Test XGBOOST Model\n",
    "- need metrics to show"
   ]
  },
  {
   "cell_type": "code",
   "execution_count": 11,
   "id": "9ecc7be4-fe03-4350-a0ad-ff19f4270ea0",
   "metadata": {
    "execution": {
     "iopub.execute_input": "2025-06-03T14:58:41.801969Z",
     "iopub.status.busy": "2025-06-03T14:58:41.801680Z",
     "iopub.status.idle": "2025-06-03T14:58:42.241033Z",
     "shell.execute_reply": "2025-06-03T14:58:42.239892Z",
     "shell.execute_reply.started": "2025-06-03T14:58:41.801947Z"
    }
   },
   "outputs": [
    {
     "name": "stdout",
     "output_type": "stream",
     "text": [
      "Downloaded data/data_reduced_features/test.csv from S3 to ../data/local_test_data/test_v2.csv\n"
     ]
    }
   ],
   "source": [
    "bucket = 'sagemaker-eu-west-1-277841471265'\n",
    "prefix = 'data/data_reduced_features/test.csv'\n",
    "local_file = '../data/local_test_data/test_v2.csv'\n",
    "\n",
    "s3 = boto3.client('s3')\n",
    "s3.download_file(bucket, prefix, local_file)\n",
    "print(f\"Downloaded {prefix} from S3 to {local_file}\")\n"
   ]
  },
  {
   "cell_type": "code",
   "execution_count": 12,
   "id": "f8e0bf6d-807a-4436-9856-177fb1cc3ab9",
   "metadata": {
    "execution": {
     "iopub.execute_input": "2025-06-03T14:58:44.061832Z",
     "iopub.status.busy": "2025-06-03T14:58:44.061273Z",
     "iopub.status.idle": "2025-06-03T14:58:44.103523Z",
     "shell.execute_reply": "2025-06-03T14:58:44.102742Z",
     "shell.execute_reply.started": "2025-06-03T14:58:44.061802Z"
    }
   },
   "outputs": [
    {
     "name": "stdout",
     "output_type": "stream",
     "text": [
      "   0   1   2  3      4  5      6  7         8\n",
      "0  1  24  16  1  0.792  0  0.208  1  0.217391\n",
      "1  1  28  20  1  0.821  0  0.179  1  0.148148\n",
      "2  1  24  16  1  0.792  0  0.208  1  0.217391\n",
      "3  0  40  32  1  0.800  0  0.175  1  0.075000\n",
      "4  1  21  13  2  0.714  0  0.286  1  0.200000\n"
     ]
    }
   ],
   "source": [
    "# Load CSV (no header, label is first column)\n",
    "df_test = pd.read_csv(local_file, header=None)\n",
    "print(df_test.head())"
   ]
  },
  {
   "cell_type": "code",
   "execution_count": 16,
   "id": "3d137cab-e107-46f4-9387-65b7e04e6986",
   "metadata": {
    "execution": {
     "iopub.execute_input": "2025-06-03T14:59:31.996023Z",
     "iopub.status.busy": "2025-06-03T14:59:31.995688Z",
     "iopub.status.idle": "2025-06-03T14:59:32.155666Z",
     "shell.execute_reply": "2025-06-03T14:59:32.154862Z",
     "shell.execute_reply.started": "2025-06-03T14:59:31.995996Z"
    }
   },
   "outputs": [
    {
     "name": "stdout",
     "output_type": "stream",
     "text": [
      "Downloaded models/xgboost/v2/sagemaker-xgboost-2025-06-03-14-53-12-660/output/model.tar.gz from S3 to ../data/local_model_data/xgboost-v2/model.tar.gz\n"
     ]
    }
   ],
   "source": [
    "# Model location in S3\n",
    "bucket = 'sagemaker-eu-west-1-277841471265'\n",
    "model_key = 'models/xgboost/v2/sagemaker-xgboost-2025-06-03-14-53-12-660/output/model.tar.gz'\n",
    "local_file = '../data/local_model_data/xgboost-v2/model.tar.gz'\n",
    "\n",
    "# Download model file\n",
    "s3 = boto3.client('s3')\n",
    "s3.download_file(bucket, model_key, local_file)\n",
    "print(f\"Downloaded {model_key} from S3 to {local_file}\")"
   ]
  },
  {
   "cell_type": "code",
   "execution_count": 17,
   "id": "1be3b306-1f76-46f9-85d2-d37450d58e21",
   "metadata": {
    "execution": {
     "iopub.execute_input": "2025-06-03T14:59:36.587598Z",
     "iopub.status.busy": "2025-06-03T14:59:36.587116Z",
     "iopub.status.idle": "2025-06-03T14:59:36.636413Z",
     "shell.execute_reply": "2025-06-03T14:59:36.635870Z",
     "shell.execute_reply.started": "2025-06-03T14:59:36.587571Z"
    }
   },
   "outputs": [
    {
     "name": "stdout",
     "output_type": "stream",
     "text": [
      "Model extracted to ../data/local_model_data/xgboost-v2/\n"
     ]
    },
    {
     "name": "stderr",
     "output_type": "stream",
     "text": [
      "/tmp/ipykernel_2072/1139056065.py:7: DeprecationWarning: Python 3.14 will, by default, filter extracted tar archives and reject files or modify their metadata. Use the filter argument to control this behavior.\n",
      "  tar.extractall(path=target_dir)\n"
     ]
    }
   ],
   "source": [
    "# Specify your desired target directory\n",
    "target_dir = \"../data/local_model_data/xgboost-v2/\"\n",
    "\n",
    "with tarfile.open(local_file) as tar:\n",
    "    tar.extractall(path=target_dir)\n",
    "\n",
    "print(f\"Model extracted to {target_dir}\")"
   ]
  },
  {
   "cell_type": "code",
   "execution_count": 18,
   "id": "664e22ad-3ada-4800-8b7c-52393c8629d4",
   "metadata": {
    "execution": {
     "iopub.execute_input": "2025-06-03T14:59:38.949346Z",
     "iopub.status.busy": "2025-06-03T14:59:38.948968Z",
     "iopub.status.idle": "2025-06-03T14:59:39.658728Z",
     "shell.execute_reply": "2025-06-03T14:59:39.658103Z",
     "shell.execute_reply.started": "2025-06-03T14:59:38.949324Z"
    }
   },
   "outputs": [
    {
     "name": "stdout",
     "output_type": "stream",
     "text": [
      "Model loaded!\n"
     ]
    }
   ],
   "source": [
    "booster = xgb.Booster()\n",
    "booster.load_model('../data/local_model_data/xgboost-v2/xgboost-model')  # built-in XGBoost saves as this name\n",
    "print(\"Model loaded!\")"
   ]
  },
  {
   "cell_type": "code",
   "execution_count": 19,
   "id": "6132b92d-048c-4c1e-9ae5-c941b2fb0d67",
   "metadata": {
    "execution": {
     "iopub.execute_input": "2025-06-03T14:59:40.193352Z",
     "iopub.status.busy": "2025-06-03T14:59:40.192897Z",
     "iopub.status.idle": "2025-06-03T14:59:40.198324Z",
     "shell.execute_reply": "2025-06-03T14:59:40.197672Z",
     "shell.execute_reply.started": "2025-06-03T14:59:40.193328Z"
    }
   },
   "outputs": [],
   "source": [
    "# separate train and test data\n",
    "y_test = df_test.iloc[:, 0].astype(int)  # first column = label\n",
    "X_test = df_test.iloc[:, 1:]             # rest = features"
   ]
  },
  {
   "cell_type": "code",
   "execution_count": 20,
   "id": "c56f50d6-412f-4f2f-a934-147de38fada3",
   "metadata": {
    "execution": {
     "iopub.execute_input": "2025-06-03T14:59:40.734146Z",
     "iopub.status.busy": "2025-06-03T14:59:40.733858Z",
     "iopub.status.idle": "2025-06-03T14:59:40.805904Z",
     "shell.execute_reply": "2025-06-03T14:59:40.805033Z",
     "shell.execute_reply.started": "2025-06-03T14:59:40.734123Z"
    }
   },
   "outputs": [],
   "source": [
    "dtest = xgb.DMatrix(X_test)\n",
    "y_pred_prob = booster.predict(dtest)\n",
    "y_pred = (y_pred_prob >= 0.5).astype(int)"
   ]
  },
  {
   "cell_type": "code",
   "execution_count": 21,
   "id": "0fa7baeb-1b81-41a8-8c02-f92dc9f37e4e",
   "metadata": {
    "execution": {
     "iopub.execute_input": "2025-06-03T14:59:41.339076Z",
     "iopub.status.busy": "2025-06-03T14:59:41.338809Z",
     "iopub.status.idle": "2025-06-03T14:59:41.366106Z",
     "shell.execute_reply": "2025-06-03T14:59:41.365212Z",
     "shell.execute_reply.started": "2025-06-03T14:59:41.339055Z"
    }
   },
   "outputs": [
    {
     "name": "stdout",
     "output_type": "stream",
     "text": [
      "\n",
      "===== Classification Report =====\n",
      "              precision    recall  f1-score   support\n",
      "\n",
      "           0       1.00      0.99      0.99     15142\n",
      "           1       0.99      1.00      1.00     20228\n",
      "\n",
      "    accuracy                           1.00     35370\n",
      "   macro avg       1.00      0.99      1.00     35370\n",
      "weighted avg       1.00      1.00      1.00     35370\n",
      "\n",
      "\n",
      "===== Accuracy Score =====\n",
      "Accuracy: 0.9954\n",
      "\n",
      "===== Confusion Matrix =====\n",
      "[[15012   130]\n",
      " [   33 20195]]\n"
     ]
    }
   ],
   "source": [
    "# Print Classification Report\n",
    "print(\"\\n===== Classification Report =====\")\n",
    "print(classification_report(y_test, y_pred))\n",
    "\n",
    "# Print Accuracy\n",
    "print(\"\\n===== Accuracy Score =====\")\n",
    "print(f\"Accuracy: {accuracy_score(y_test, y_pred):.4f}\")\n",
    "\n",
    "# Print Confusion Matrix\n",
    "print(\"\\n===== Confusion Matrix =====\")\n",
    "conf_matrix = confusion_matrix(y_test, y_pred)\n",
    "print(conf_matrix)"
   ]
  },
  {
   "cell_type": "markdown",
   "id": "81382d3b-d7cd-4d36-bc64-763c16672b46",
   "metadata": {},
   "source": [
    "# Deploy Endpoint\n",
    "- can continue to deployment from here no need to retrain if model is already trained"
   ]
  },
  {
   "cell_type": "code",
   "execution_count": 1,
   "id": "86c202fa-fce9-4a19-928f-0d713e2bd25b",
   "metadata": {
    "execution": {
     "iopub.execute_input": "2025-06-04T08:33:05.088777Z",
     "iopub.status.busy": "2025-06-04T08:33:05.088402Z",
     "iopub.status.idle": "2025-06-04T08:33:07.951574Z",
     "shell.execute_reply": "2025-06-04T08:33:07.950790Z",
     "shell.execute_reply.started": "2025-06-04T08:33:05.088749Z"
    }
   },
   "outputs": [
    {
     "name": "stdout",
     "output_type": "stream",
     "text": [
      "sagemaker.config INFO - Not applying SDK defaults from location: /etc/xdg/sagemaker/config.yaml\n",
      "sagemaker.config INFO - Not applying SDK defaults from location: /home/sagemaker-user/.config/sagemaker/config.yaml\n"
     ]
    }
   ],
   "source": [
    "import sagemaker\n",
    "from sagemaker import Session, get_execution_role\n",
    "from sagemaker.model import Model\n",
    "from sagemaker.serializers import CSVSerializer\n",
    "from sagemaker.deserializers import JSONDeserializer\n",
    "\n",
    "# Set up SageMaker session and role\n",
    "role = get_execution_role()\n",
    "session = Session()\n",
    "region = session.boto_region_name\n",
    "\n",
    "# Path to the model artifact\n",
    "model_data = 's3://sagemaker-eu-west-1-277841471265/models/xgboost/v2/sagemaker-xgboost-2025-06-03-14-53-12-660/output/model.tar.gz'\n",
    "\n",
    "# Create the Model object using SageMaker's built-in XGBoost image\n",
    "xgboost_image_uri = sagemaker.image_uris.retrieve('xgboost', region, version='1.7-1')"
   ]
  },
  {
   "cell_type": "code",
   "execution_count": 2,
   "id": "76d1693f-f52d-492b-abdb-2f0fadce6caf",
   "metadata": {
    "execution": {
     "iopub.execute_input": "2025-06-04T08:33:15.368111Z",
     "iopub.status.busy": "2025-06-04T08:33:15.367820Z",
     "iopub.status.idle": "2025-06-04T08:33:15.371503Z",
     "shell.execute_reply": "2025-06-04T08:33:15.370921Z",
     "shell.execute_reply.started": "2025-06-04T08:33:15.368088Z"
    }
   },
   "outputs": [],
   "source": [
    "model = Model(\n",
    "    image_uri=xgboost_image_uri,\n",
    "    model_data=model_data,\n",
    "    role=role,\n",
    "    sagemaker_session=session\n",
    ")"
   ]
  },
  {
   "cell_type": "code",
   "execution_count": 3,
   "id": "c8cba87f-ecaf-4c3a-b3b3-8ced2c30f9b4",
   "metadata": {
    "execution": {
     "iopub.execute_input": "2025-06-04T08:33:18.318169Z",
     "iopub.status.busy": "2025-06-04T08:33:18.317873Z",
     "iopub.status.idle": "2025-06-04T08:36:50.490850Z",
     "shell.execute_reply": "2025-06-04T08:36:50.490190Z",
     "shell.execute_reply.started": "2025-06-04T08:33:18.318148Z"
    }
   },
   "outputs": [
    {
     "name": "stdout",
     "output_type": "stream",
     "text": [
      "------!Endpoint deployed and ready for real-time inference!\n"
     ]
    }
   ],
   "source": [
    "# Deploy the model as an endpoint\n",
    "predictor = model.deploy(\n",
    "    initial_instance_count=1,\n",
    "    instance_type='ml.m5.large', \n",
    "    serializer=CSVSerializer(),\n",
    "    deserializer=JSONDeserializer()\n",
    ")\n",
    "\n",
    "print(\"Endpoint deployed and ready for real-time inference!\")"
   ]
  },
  {
   "cell_type": "markdown",
   "id": "f69ac3be-f01f-4a35-b404-1a9d0483522f",
   "metadata": {},
   "source": [
    "## Endpoint Deployed\n",
    "- Now create the lambda function using the code in `lambda_functions/lambda_functions.py`\n",
    "- Follow instructions in `README` to do this and test it and finally to create the API Gateway"
   ]
  }
 ],
 "metadata": {
  "kernelspec": {
   "display_name": "Python 3 (ipykernel)",
   "language": "python",
   "name": "python3"
  },
  "language_info": {
   "codemirror_mode": {
    "name": "ipython",
    "version": 3
   },
   "file_extension": ".py",
   "mimetype": "text/x-python",
   "name": "python",
   "nbconvert_exporter": "python",
   "pygments_lexer": "ipython3",
   "version": "3.12.9"
  }
 },
 "nbformat": 4,
 "nbformat_minor": 5
}
