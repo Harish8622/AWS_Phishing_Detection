{
 "cells": [
  {
   "cell_type": "markdown",
   "id": "b542f322-3317-4257-ba15-a6642345f07f",
   "metadata": {},
   "source": [
    "## Benchmark Model\n",
    "\n",
    "- Here a very simple logistic regression model will be trained just using `URLLength` as a feature\n",
    "- This is will serve as a benchmark result to compare to the performance of the final model"
   ]
  },
  {
   "cell_type": "markdown",
   "id": "7d0f3195-9b02-4e66-947d-80946d8dccd8",
   "metadata": {},
   "source": [
    "## Import libraries"
   ]
  },
  {
   "cell_type": "code",
   "execution_count": null,
   "id": "9203bee7-91df-4308-ad0f-6e50159fa69d",
   "metadata": {},
   "outputs": [],
   "source": [
    "# Data Handling\n",
    "import pandas as pd\n",
    "\n",
    "# Model Selection\n",
    "from sklearn.model_selection import train_test_split\n",
    "\n",
    "# Models\n",
    "from sklearn.linear_model import LogisticRegression\n",
    "\n",
    "# Evaluation Metrics\n",
    "from sklearn.metrics import (\n",
    "    classification_report,\n",
    "    confusion_matrix,\n",
    "    accuracy_score,\n",
    "    precision_score,\n",
    "    recall_score,\n",
    "    f1_score\n",
    ")"
   ]
  },
  {
   "cell_type": "markdown",
   "id": "baf444c0-de2c-4f1a-a62f-120a0578e61f",
   "metadata": {},
   "source": [
    "## Prepare data"
   ]
  },
  {
   "cell_type": "code",
   "execution_count": null,
   "id": "3598b57f-a438-4125-975e-3be2fb0601bb",
   "metadata": {},
   "outputs": [],
   "source": [
    "# S3 path\n",
    "bucket_name = 'bucket_name'\n",
    "prefix = 'initial_dataset/PhiUSIIL_Phishing_URL_Dataset 3.csv'\n",
    "s3_path = f's3://{bucket_name}/{prefix}'\n",
    "\n",
    "df = pd.read_csv(s3_path)\n",
    "# Select only URL Length\n",
    "selected_features = ['URLLength']\n",
    "\n",
    "X = df[selected_features]\n",
    "y = df['label']\n",
    "\n",
    "# Train-test split\n",
    "X_train, X_test, y_train, y_test = train_test_split(\n",
    "    X, y, test_size=0.2, stratify=y, random_state=0\n",
    ")"
   ]
  },
  {
   "cell_type": "code",
   "execution_count": null,
   "id": "5799875f-5513-448d-9148-f35a486e7dc9",
   "metadata": {},
   "outputs": [],
   "source": [
    "print(X_train.head())"
   ]
  },
  {
   "cell_type": "markdown",
   "id": "66a66228-50ac-4ab6-acfb-baa75aba4431",
   "metadata": {},
   "source": [
    "## Train Model"
   ]
  },
  {
   "cell_type": "code",
   "execution_count": null,
   "id": "12f43f2e-78ec-46d4-88d6-4479c1f45d2e",
   "metadata": {},
   "outputs": [],
   "source": [
    "# Benchmark model: Logistic Regression\n",
    "baseline_model = LogisticRegression(max_iter=500, solver='lbfgs')  # 'lbfgs' is default and works well\n",
    "baseline_model.fit(X_train, y_train)"
   ]
  },
  {
   "cell_type": "markdown",
   "id": "9eb6f97f-c0f9-42f0-a397-b823451d9404",
   "metadata": {},
   "source": [
    "## Evaluate Model"
   ]
  },
  {
   "cell_type": "code",
   "execution_count": null,
   "id": "2accf17e-84bd-49c6-9ca8-4473ae7144db",
   "metadata": {},
   "outputs": [],
   "source": [
    "# Predictions\n",
    "y_pred = baseline_model.predict(X_test)\n",
    "\n",
    "# Confusion matrix\n",
    "conf_matrix = confusion_matrix(y_test, y_pred)\n",
    "print(\"Confusion Matrix:\\n\", conf_matrix)\n",
    "\n",
    "# Accuracy\n",
    "acc = accuracy_score(y_test, y_pred)\n",
    "print(\"Accuracy:\", acc)\n",
    "\n",
    "# Precision\n",
    "prec = precision_score(y_test, y_pred)\n",
    "print(\"Precision:\", prec)\n",
    "\n",
    "# Recall\n",
    "rec = recall_score(y_test, y_pred)\n",
    "print(\"Recall:\", rec)\n",
    "\n",
    "# F1 Score\n",
    "f1 = f1_score(y_test, y_pred)\n",
    "print(\"F1 Score:\", f1)\n",
    "\n",
    "# Full classification report\n",
    "print(\"\\nClassification Report:\\n\", classification_report(y_test, y_pred))"
   ]
  }
 ],
 "metadata": {
  "kernelspec": {
   "display_name": "Python 3 (ipykernel)",
   "language": "python",
   "name": "python3"
  },
  "language_info": {
   "codemirror_mode": {
    "name": "ipython",
    "version": 3
   },
   "file_extension": ".py",
   "mimetype": "text/x-python",
   "name": "python",
   "nbconvert_exporter": "python",
   "pygments_lexer": "ipython3",
   "version": "3.12.9"
  }
 },
 "nbformat": 4,
 "nbformat_minor": 5
}
