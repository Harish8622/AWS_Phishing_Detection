{
 "cells": [
  {
   "cell_type": "code",
   "execution_count": 1,
   "id": "ec6303a2-5dc7-491b-827c-5091ec82c3df",
   "metadata": {},
   "outputs": [
    {
     "name": "stdout",
     "output_type": "stream",
     "text": [
      "sagemaker.config INFO - Not applying SDK defaults from location: /etc/xdg/sagemaker/config.yaml\n",
      "sagemaker.config INFO - Not applying SDK defaults from location: /home/sagemaker-user/.config/sagemaker/config.yaml\n"
     ]
    }
   ],
   "source": [
    "import sagemaker\n",
    "import boto3\n",
    "from sagemaker.inputs import TrainingInput\n",
    "from sagemaker import Session\n",
    "from sagemaker.estimator import Estimator\n",
    "from sagemaker import get_execution_role\n",
    "from sagemaker import image_uris"
   ]
  },
  {
   "cell_type": "code",
   "execution_count": 2,
   "id": "b3442f1b-f0a4-42ec-89c6-2f8f18d0bea0",
   "metadata": {},
   "outputs": [],
   "source": [
    "role = get_execution_role()\n",
    "session = Session()\n",
    "region = session.boto_region_name\n",
    "\n",
    "# initialize hyperparameters\n",
    "hyperparameters = {\n",
    "        \"max_depth\":\"5\",\n",
    "        \"eta\":\"0.2\",\n",
    "        \"gamma\":\"4\",\n",
    "        \"min_child_weight\":\"6\",\n",
    "        \"subsample\":\"0.7\",\n",
    "        \"objective\":\"binary:logistic\",\n",
    "        \"num_round\":\"300\"}\n",
    "\n",
    "# set an output path where the trained model will be saved\n",
    "bucket = 'sagemaker-us-east-1-922945788052'\n",
    "s3_output_key = 'models/xgboost/v1'\n",
    "output_path = f's3://{bucket}/{s3_output_key}'\n",
    "\n",
    "# this line automatically looks for the XGBoost image URI and builds an XGBoost container.\n",
    "# specify the repo_version depending on your preference.\n",
    "xgboost_container = sagemaker.image_uris.retrieve(\"xgboost\", region, \"1.7-1\")\n",
    "\n",
    "# construct a SageMaker AI estimator that calls the xgboost-container\n",
    "estimator = sagemaker.estimator.Estimator(image_uri=xgboost_container, \n",
    "                                          hyperparameters=hyperparameters,\n",
    "                                          role=role,\n",
    "                                          instance_count=2, \n",
    "                                          instance_type='ml.m5.large', \n",
    "                                          volume_size=5, # 5 GB \n",
    "                                          output_path=output_path)"
   ]
  },
  {
   "cell_type": "code",
   "execution_count": 3,
   "id": "e3f476e4-7a8d-4e64-a1d4-6eeec98661da",
   "metadata": {},
   "outputs": [],
   "source": [
    "# define the data type and paths to the training and validation datasets\n",
    "content_type = \"text/csv\"\n",
    "bucket = 'sagemaker-us-east-1-922945788052'\n",
    "prefix = 'processed_data'\n",
    "\n",
    "train_input = TrainingInput(f\"s3://{bucket}/{prefix}/train.csv\", content_type=content_type)\n",
    "validation_input = TrainingInput(f\"s3://{bucket}/{prefix}/validation.csv\", content_type=content_type)"
   ]
  },
  {
   "cell_type": "code",
   "execution_count": 4,
   "id": "8209df82-2710-41a5-9bdd-e501092c5248",
   "metadata": {},
   "outputs": [
    {
     "data": {
      "text/plain": [
       "'s3://sagemaker-us-east-1-922945788052/processed_data/train.csv'"
      ]
     },
     "execution_count": 4,
     "metadata": {},
     "output_type": "execute_result"
    }
   ],
   "source": [
    "f\"s3://{bucket}/{prefix}/train.csv\""
   ]
  },
  {
   "cell_type": "code",
   "execution_count": 5,
   "id": "620dd641-3e48-43df-992c-14b1383fadfe",
   "metadata": {
    "scrolled": true
   },
   "outputs": [
    {
     "name": "stderr",
     "output_type": "stream",
     "text": [
      "INFO:sagemaker:Creating training-job with name: sagemaker-xgboost-2025-05-30-16-29-11-781\n"
     ]
    },
    {
     "name": "stdout",
     "output_type": "stream",
     "text": [
      "2025-05-30 16:29:12 Starting - Starting the training job...\n",
      "2025-05-30 16:29:33 Starting - Preparing the instances for training...\n",
      "2025-05-30 16:29:58 Downloading - Downloading input data......\n",
      "2025-05-30 16:30:53 Downloading - Downloading the training image.....\u001b[35m[2025-05-30 16:31:56.442 ip-10-0-66-103.ec2.internal:7 INFO utils.py:28] RULE_JOB_STOP_SIGNAL_FILENAME: None\u001b[0m\n",
      "\u001b[35m[2025-05-30 16:31:56.467 ip-10-0-66-103.ec2.internal:7 INFO profiler_config_parser.py:111] User has disabled profiler.\u001b[0m\n",
      "\u001b[35m[2025-05-30:16:31:56:INFO] Imported framework sagemaker_xgboost_container.training\u001b[0m\n",
      "\u001b[35m[2025-05-30:16:31:56:INFO] Failed to parse hyperparameter objective value binary:logistic to Json.\u001b[0m\n",
      "\u001b[35mReturning the value itself\u001b[0m\n",
      "\u001b[35m[2025-05-30:16:31:56:INFO] No GPUs detected (normal if no gpus installed)\u001b[0m\n",
      "\u001b[35m[2025-05-30:16:31:56:INFO] Running XGBoost Sagemaker in algorithm mode\u001b[0m\n",
      "\u001b[35m[2025-05-30:16:31:56:INFO] Determined 0 GPU(s) available on the instance.\u001b[0m\n",
      "\u001b[35m[2025-05-30:16:31:56:INFO] Determined delimiter of CSV input is ','\u001b[0m\n",
      "\u001b[35m[2025-05-30:16:31:56:INFO] Determined delimiter of CSV input is ','\u001b[0m\n",
      "\u001b[35m[2025-05-30:16:31:56:INFO] File path /opt/ml/input/data/train of input files\u001b[0m\n",
      "\u001b[35m[2025-05-30:16:31:56:INFO] Making smlinks from folder /opt/ml/input/data/train to folder /tmp/sagemaker_xgboost_input_data\u001b[0m\n",
      "\u001b[35m[2025-05-30:16:31:56:INFO] creating symlink between Path /opt/ml/input/data/train/train.csv and destination /tmp/sagemaker_xgboost_input_data/train.csv-6047577350963019606\u001b[0m\n",
      "\u001b[35m[2025-05-30:16:31:56:INFO] files path: /tmp/sagemaker_xgboost_input_data\u001b[0m\n",
      "\u001b[35m[2025-05-30:16:31:56:INFO] Determined delimiter of CSV input is ','\u001b[0m\n",
      "\u001b[35m[2025-05-30:16:31:57:INFO] File path /opt/ml/input/data/validation of input files\u001b[0m\n",
      "\u001b[35m[2025-05-30:16:31:57:INFO] Making smlinks from folder /opt/ml/input/data/validation to folder /tmp/sagemaker_xgboost_input_data\u001b[0m\n",
      "\u001b[35m[2025-05-30:16:31:57:INFO] creating symlink between Path /opt/ml/input/data/validation/validation.csv and destination /tmp/sagemaker_xgboost_input_data/validation.csv-7235695810176352435\u001b[0m\n",
      "\u001b[35m[2025-05-30:16:31:57:INFO] files path: /tmp/sagemaker_xgboost_input_data\u001b[0m\n",
      "\u001b[35m[2025-05-30:16:31:57:INFO] Determined delimiter of CSV input is ','\u001b[0m\n",
      "\u001b[35m[2025-05-30:16:31:57:INFO] Distributed node training with 2 hosts: ['algo-1', 'algo-2']\u001b[0m\n",
      "\u001b[35m[2025-05-30:16:31:57:INFO] Connected to RabitTracker.\u001b[0m\n",
      "\u001b[35m/miniconda3/lib/python3.9/site-packages/xgboost/rabit.py:23: FutureWarning: The xgboost.rabit submodule is marked as deprecated in 1.7 and will be removed in 2.0. Please use xgboost.collective instead.\n",
      "  warnings.warn(_deprecation_warning(), FutureWarning)\u001b[0m\n",
      "\u001b[35m[16:31:57] task NULL got new rank 0\u001b[0m\n",
      "\u001b[35m[2025-05-30:16:31:57:INFO] Failed to connect to RabitTracker on attempt 0\u001b[0m\n",
      "\u001b[35m[2025-05-30:16:31:57:INFO] Sleeping for 3 sec before retrying\u001b[0m\n",
      "\u001b[35m[2025-05-30:16:32:00:INFO] Connected to RabitTracker.\u001b[0m\n",
      "\u001b[35m[16:32:00] task NULL got new rank 0\u001b[0m\n",
      "\u001b[35m[2025-05-30:16:32:00:INFO] Train matrix has 165150 rows and 12 columns\u001b[0m\n",
      "\u001b[35m[2025-05-30:16:32:00:INFO] Validation matrix has 35275 rows\u001b[0m\n",
      "\u001b[35m[2025-05-30 16:32:00.582 ip-10-0-66-103.ec2.internal:7 INFO json_config.py:92] Creating hook from json_config at /opt/ml/input/config/debughookconfig.json.\u001b[0m\n",
      "\u001b[35m[2025-05-30 16:32:00.583 ip-10-0-66-103.ec2.internal:7 INFO hook.py:206] tensorboard_dir has not been set for the hook. SMDebug will not be exporting tensorboard summaries.\u001b[0m\n",
      "\u001b[35m[2025-05-30 16:32:00.584 ip-10-0-66-103.ec2.internal:7 INFO hook.py:259] Saving to /opt/ml/output/tensors\u001b[0m\n",
      "\u001b[35m[2025-05-30 16:32:00.584 ip-10-0-66-103.ec2.internal:7 INFO state_store.py:77] The checkpoint config file /opt/ml/input/config/checkpointconfig.json does not exist.\u001b[0m\n",
      "\u001b[35m[2025-05-30:16:32:00:INFO] Debug hook created from config\u001b[0m\n",
      "\u001b[34m[2025-05-30 16:31:56.388 ip-10-0-86-146.ec2.internal:7 INFO utils.py:28] RULE_JOB_STOP_SIGNAL_FILENAME: None\u001b[0m\n",
      "\u001b[34m[2025-05-30 16:31:56.411 ip-10-0-86-146.ec2.internal:7 INFO profiler_config_parser.py:111] User has disabled profiler.\u001b[0m\n",
      "\u001b[34m[2025-05-30:16:31:56:INFO] Imported framework sagemaker_xgboost_container.training\u001b[0m\n",
      "\u001b[34m[2025-05-30:16:31:56:INFO] Failed to parse hyperparameter objective value binary:logistic to Json.\u001b[0m\n",
      "\u001b[34mReturning the value itself\u001b[0m\n",
      "\u001b[34m[2025-05-30:16:31:56:INFO] No GPUs detected (normal if no gpus installed)\u001b[0m\n",
      "\u001b[34m[2025-05-30:16:31:56:INFO] Running XGBoost Sagemaker in algorithm mode\u001b[0m\n",
      "\u001b[34m[2025-05-30:16:31:56:INFO] Determined 0 GPU(s) available on the instance.\u001b[0m\n",
      "\u001b[34m[2025-05-30:16:31:56:INFO] Determined delimiter of CSV input is ','\u001b[0m\n",
      "\u001b[34m[2025-05-30:16:31:56:INFO] Determined delimiter of CSV input is ','\u001b[0m\n",
      "\u001b[34m[2025-05-30:16:31:56:INFO] File path /opt/ml/input/data/train of input files\u001b[0m\n",
      "\u001b[34m[2025-05-30:16:31:56:INFO] Making smlinks from folder /opt/ml/input/data/train to folder /tmp/sagemaker_xgboost_input_data\u001b[0m\n",
      "\u001b[34m[2025-05-30:16:31:56:INFO] creating symlink between Path /opt/ml/input/data/train/train.csv and destination /tmp/sagemaker_xgboost_input_data/train.csv-5194397941092121395\u001b[0m\n",
      "\u001b[34m[2025-05-30:16:31:56:INFO] files path: /tmp/sagemaker_xgboost_input_data\u001b[0m\n",
      "\u001b[34m[2025-05-30:16:31:56:INFO] Determined delimiter of CSV input is ','\u001b[0m\n",
      "\u001b[34m[2025-05-30:16:31:57:INFO] File path /opt/ml/input/data/validation of input files\u001b[0m\n",
      "\u001b[34m[2025-05-30:16:31:57:INFO] Making smlinks from folder /opt/ml/input/data/validation to folder /tmp/sagemaker_xgboost_input_data\u001b[0m\n",
      "\u001b[34m[2025-05-30:16:31:57:INFO] creating symlink between Path /opt/ml/input/data/validation/validation.csv and destination /tmp/sagemaker_xgboost_input_data/validation.csv1918719038588155529\u001b[0m\n",
      "\u001b[34m[2025-05-30:16:31:57:INFO] files path: /tmp/sagemaker_xgboost_input_data\u001b[0m\n",
      "\u001b[34m[2025-05-30:16:31:57:INFO] Determined delimiter of CSV input is ','\u001b[0m\n",
      "\u001b[34m[2025-05-30:16:31:57:INFO] Distributed node training with 2 hosts: ['algo-1', 'algo-2']\u001b[0m\n",
      "\u001b[34m[2025-05-30:16:31:57:INFO] start listen on algo-1:9099\u001b[0m\n",
      "\u001b[34m[2025-05-30:16:31:57:INFO] Rabit slave environment: {'DMLC_TRACKER_URI': 'algo-1', 'DMLC_TRACKER_PORT': 9099}\u001b[0m\n",
      "\u001b[34m[2025-05-30:16:31:57:INFO] No data received from connection ('10.0.86.146', 42354). Closing.\u001b[0m\n",
      "\u001b[34m[2025-05-30:16:31:57:INFO] Connected to RabitTracker.\u001b[0m\n",
      "\u001b[34m/miniconda3/lib/python3.9/site-packages/xgboost/rabit.py:23: FutureWarning: The xgboost.rabit submodule is marked as deprecated in 1.7 and will be removed in 2.0. Please use xgboost.collective instead.\n",
      "  warnings.warn(_deprecation_warning(), FutureWarning)\u001b[0m\n",
      "\u001b[34m[2025-05-30:16:31:57:INFO] No data received from connection ('10.0.66.103', 49596). Closing.\u001b[0m\n",
      "\u001b[34m[2025-05-30:16:31:57:INFO] Recieve start signal from 10.0.66.103; assign rank 0\u001b[0m\n",
      "\u001b[34m[16:31:57] task NULL got new rank 1\u001b[0m\n",
      "\u001b[34m[2025-05-30:16:31:57:INFO] Recieve start signal from 10.0.86.146; assign rank 1\u001b[0m\n",
      "\u001b[34m[2025-05-30:16:31:57:INFO] @tracker All of 2 nodes getting started\u001b[0m\n",
      "\u001b[34m[2025-05-30:16:31:57:INFO] @tracker All nodes finishes job\u001b[0m\n",
      "\u001b[34m[2025-05-30:16:31:57:INFO] @tracker 0.0007512569427490234 secs between node start and job finish\u001b[0m\n",
      "\u001b[34m[2025-05-30:16:31:57:INFO] start listen on algo-1:9100\u001b[0m\n",
      "\u001b[34m[2025-05-30:16:31:57:INFO] Rabit slave environment: {'DMLC_TRACKER_URI': 'algo-1', 'DMLC_TRACKER_PORT': 9100}\u001b[0m\n",
      "\u001b[34m[2025-05-30:16:31:57:INFO] Connected to RabitTracker.\u001b[0m\n",
      "\u001b[34m[2025-05-30:16:31:57:INFO] No data received from connection ('10.0.86.146', 58314). Closing.\u001b[0m\n",
      "\u001b[34m[2025-05-30:16:32:00:INFO] No data received from connection ('10.0.66.103', 60334). Closing.\u001b[0m\n",
      "\u001b[34m[2025-05-30:16:32:00:INFO] Recieve start signal from 10.0.66.103; assign rank 0\u001b[0m\n",
      "\u001b[34m[16:32:00] task NULL got new rank 1\u001b[0m\n",
      "\u001b[34m[2025-05-30:16:32:00:INFO] Recieve start signal from 10.0.86.146; assign rank 1\u001b[0m\n",
      "\u001b[34m[2025-05-30:16:32:00:INFO] Train matrix has 165150 rows and 12 columns\u001b[0m\n",
      "\u001b[34m[2025-05-30:16:32:00:INFO] Validation matrix has 35275 rows\u001b[0m\n",
      "\u001b[34m[2025-05-30:16:32:00:INFO] @tracker All of 2 nodes getting started\u001b[0m\n",
      "\u001b[34m[2025-05-30 16:32:00.583 ip-10-0-86-146.ec2.internal:7 INFO json_config.py:92] Creating hook from json_config at /opt/ml/input/config/debughookconfig.json.\u001b[0m\n",
      "\u001b[34m[2025-05-30 16:32:00.583 ip-10-0-86-146.ec2.internal:7 INFO hook.py:206] tensorboard_dir has not been set for the hook. SMDebug will not be exporting tensorboard summaries.\u001b[0m\n",
      "\u001b[34m[2025-05-30 16:32:00.584 ip-10-0-86-146.ec2.internal:7 INFO hook.py:259] Saving to /opt/ml/output/tensors\u001b[0m\n",
      "\u001b[34m[2025-05-30 16:32:00.584 ip-10-0-86-146.ec2.internal:7 INFO state_store.py:77] The checkpoint config file /opt/ml/input/config/checkpointconfig.json does not exist.\u001b[0m\n",
      "\u001b[34m[2025-05-30:16:32:00:INFO] Debug hook created from config\u001b[0m\n",
      "\u001b[35m[2025-05-30 16:32:00.880 ip-10-0-66-103.ec2.internal:7 INFO hook.py:427] Monitoring the collections: metrics\u001b[0m\n",
      "\u001b[34m[2025-05-30 16:32:00.880 ip-10-0-86-146.ec2.internal:7 INFO hook.py:427] Monitoring the collections: metrics\u001b[0m\n",
      "\u001b[34m[2025-05-30:16:32:00:INFO] [0]#011train-logloss:0.52919#011validation-logloss:0.52979\u001b[0m\n",
      "\u001b[34m[2025-05-30:16:32:01:INFO] [1]#011train-logloss:0.41785#011validation-logloss:0.41913\u001b[0m\n",
      "\u001b[34m[2025-05-30:16:32:01:INFO] [2]#011train-logloss:0.33687#011validation-logloss:0.33848\u001b[0m\n",
      "\u001b[34m[2025-05-30:16:32:01:INFO] [3]#011train-logloss:0.27696#011validation-logloss:0.27902\u001b[0m\n",
      "\u001b[34m[2025-05-30:16:32:01:INFO] [4]#011train-logloss:0.23148#011validation-logloss:0.23401\u001b[0m\n",
      "\u001b[34m[2025-05-30:16:32:01:INFO] [5]#011train-logloss:0.19573#011validation-logloss:0.19834\u001b[0m\n",
      "\u001b[34m[2025-05-30:16:32:01:INFO] [6]#011train-logloss:0.16782#011validation-logloss:0.17053\u001b[0m\n",
      "\u001b[34m[2025-05-30:16:32:01:INFO] [7]#011train-logloss:0.14586#011validation-logloss:0.14885\u001b[0m\n",
      "\u001b[34m[2025-05-30:16:32:02:INFO] [8]#011train-logloss:0.12696#011validation-logloss:0.13011\u001b[0m\n",
      "\u001b[34m[2025-05-30:16:32:02:INFO] [9]#011train-logloss:0.11217#011validation-logloss:0.11537\u001b[0m\n",
      "\u001b[34m[2025-05-30:16:32:02:INFO] [10]#011train-logloss:0.09946#011validation-logloss:0.10255\u001b[0m\n",
      "\u001b[34m[2025-05-30:16:32:02:INFO] [11]#011train-logloss:0.08903#011validation-logloss:0.09208\u001b[0m\n",
      "\u001b[34m[2025-05-30:16:32:02:INFO] [12]#011train-logloss:0.08174#011validation-logloss:0.08499\u001b[0m\n",
      "\u001b[34m[2025-05-30:16:32:03:INFO] [13]#011train-logloss:0.07453#011validation-logloss:0.07768\u001b[0m\n",
      "\u001b[34m[2025-05-30:16:32:03:INFO] [14]#011train-logloss:0.06740#011validation-logloss:0.07012\u001b[0m\n",
      "\u001b[34m[2025-05-30:16:32:03:INFO] [15]#011train-logloss:0.06255#011validation-logloss:0.06526\u001b[0m\n",
      "\u001b[34m[2025-05-30:16:32:03:INFO] [16]#011train-logloss:0.05864#011validation-logloss:0.06134\u001b[0m\n",
      "\u001b[34m[2025-05-30:16:32:03:INFO] [17]#011train-logloss:0.05473#011validation-logloss:0.05741\u001b[0m\n",
      "\u001b[34m[2025-05-30:16:32:03:INFO] [18]#011train-logloss:0.05214#011validation-logloss:0.05491\u001b[0m\n",
      "\u001b[34m[2025-05-30:16:32:03:INFO] [19]#011train-logloss:0.05021#011validation-logloss:0.05305\u001b[0m\n",
      "\u001b[34m[2025-05-30:16:32:04:INFO] [20]#011train-logloss:0.04692#011validation-logloss:0.04921\u001b[0m\n",
      "\u001b[34m[2025-05-30:16:32:04:INFO] [21]#011train-logloss:0.04559#011validation-logloss:0.04797\u001b[0m\n",
      "\u001b[34m[2025-05-30:16:32:04:INFO] [22]#011train-logloss:0.04395#011validation-logloss:0.04638\u001b[0m\n",
      "\u001b[34m[2025-05-30:16:32:04:INFO] [23]#011train-logloss:0.04283#011validation-logloss:0.04524\u001b[0m\n",
      "\u001b[34m[2025-05-30:16:32:04:INFO] [24]#011train-logloss:0.04142#011validation-logloss:0.04372\u001b[0m\n",
      "\u001b[34m[2025-05-30:16:32:04:INFO] [25]#011train-logloss:0.03918#011validation-logloss:0.04104\u001b[0m\n",
      "\u001b[34m[2025-05-30:16:32:04:INFO] [26]#011train-logloss:0.03805#011validation-logloss:0.03973\u001b[0m\n",
      "\n",
      "2025-05-30 16:31:54 Training - Training image download completed. Training in progress.\u001b[34m[2025-05-30:16:32:04:INFO] [27]#011train-logloss:0.03733#011validation-logloss:0.03903\u001b[0m\n",
      "\u001b[34m[2025-05-30:16:32:04:INFO] [28]#011train-logloss:0.03615#011validation-logloss:0.03769\u001b[0m\n",
      "\u001b[34m[2025-05-30:16:32:05:INFO] [29]#011train-logloss:0.03488#011validation-logloss:0.03632\u001b[0m\n",
      "\u001b[34m[2025-05-30:16:32:05:INFO] [30]#011train-logloss:0.03331#011validation-logloss:0.03456\u001b[0m\n",
      "\u001b[34m[2025-05-30:16:32:05:INFO] [31]#011train-logloss:0.03286#011validation-logloss:0.03404\u001b[0m\n",
      "\u001b[34m[2025-05-30:16:32:05:INFO] [32]#011train-logloss:0.03193#011validation-logloss:0.03313\u001b[0m\n",
      "\u001b[34m[2025-05-30:16:32:05:INFO] [33]#011train-logloss:0.03144#011validation-logloss:0.03260\u001b[0m\n",
      "\u001b[34m[2025-05-30:16:32:05:INFO] [34]#011train-logloss:0.03073#011validation-logloss:0.03191\u001b[0m\n",
      "\u001b[34m[2025-05-30:16:32:05:INFO] [35]#011train-logloss:0.03032#011validation-logloss:0.03144\u001b[0m\n",
      "\u001b[34m[2025-05-30:16:32:05:INFO] [36]#011train-logloss:0.02959#011validation-logloss:0.03055\u001b[0m\n",
      "\u001b[34m[2025-05-30:16:32:05:INFO] [37]#011train-logloss:0.02931#011validation-logloss:0.03023\u001b[0m\n",
      "\u001b[34m[2025-05-30:16:32:06:INFO] [38]#011train-logloss:0.02880#011validation-logloss:0.02971\u001b[0m\n",
      "\u001b[34m[2025-05-30:16:32:06:INFO] [39]#011train-logloss:0.02855#011validation-logloss:0.02942\u001b[0m\n",
      "\u001b[34m[2025-05-30:16:32:06:INFO] [40]#011train-logloss:0.02810#011validation-logloss:0.02891\u001b[0m\n",
      "\u001b[34m[2025-05-30:16:32:06:INFO] [41]#011train-logloss:0.02763#011validation-logloss:0.02835\u001b[0m\n",
      "\u001b[34m[2025-05-30:16:32:06:INFO] [42]#011train-logloss:0.02747#011validation-logloss:0.02816\u001b[0m\n",
      "\u001b[34m[2025-05-30:16:32:06:INFO] [43]#011train-logloss:0.02723#011validation-logloss:0.02792\u001b[0m\n",
      "\u001b[34m[2025-05-30:16:32:06:INFO] [44]#011train-logloss:0.02699#011validation-logloss:0.02768\u001b[0m\n",
      "\u001b[34m[2025-05-30:16:32:06:INFO] [45]#011train-logloss:0.02665#011validation-logloss:0.02741\u001b[0m\n",
      "\u001b[34m[2025-05-30:16:32:06:INFO] [46]#011train-logloss:0.02649#011validation-logloss:0.02725\u001b[0m\n",
      "\u001b[34m[2025-05-30:16:32:07:INFO] [47]#011train-logloss:0.02636#011validation-logloss:0.02709\u001b[0m\n",
      "\u001b[34m[2025-05-30:16:32:07:INFO] [48]#011train-logloss:0.02617#011validation-logloss:0.02695\u001b[0m\n",
      "\u001b[34m[2025-05-30:16:32:07:INFO] [49]#011train-logloss:0.02604#011validation-logloss:0.02678\u001b[0m\n",
      "\u001b[34m[2025-05-30:16:32:07:INFO] [50]#011train-logloss:0.02581#011validation-logloss:0.02654\u001b[0m\n",
      "\u001b[34m[2025-05-30:16:32:07:INFO] [51]#011train-logloss:0.02569#011validation-logloss:0.02643\u001b[0m\n",
      "\u001b[34m[2025-05-30:16:32:07:INFO] [52]#011train-logloss:0.02554#011validation-logloss:0.02625\u001b[0m\n",
      "\u001b[34m[2025-05-30:16:32:07:INFO] [53]#011train-logloss:0.02528#011validation-logloss:0.02596\u001b[0m\n",
      "\u001b[34m[2025-05-30:16:32:07:INFO] [54]#011train-logloss:0.02520#011validation-logloss:0.02589\u001b[0m\n",
      "\u001b[34m[2025-05-30:16:32:07:INFO] [55]#011train-logloss:0.02496#011validation-logloss:0.02567\u001b[0m\n",
      "\u001b[34m[2025-05-30:16:32:08:INFO] [56]#011train-logloss:0.02471#011validation-logloss:0.02538\u001b[0m\n",
      "\u001b[34m[2025-05-30:16:32:08:INFO] [57]#011train-logloss:0.02397#011validation-logloss:0.02458\u001b[0m\n",
      "\u001b[34m[2025-05-30:16:32:08:INFO] [58]#011train-logloss:0.02382#011validation-logloss:0.02445\u001b[0m\n",
      "\u001b[34m[2025-05-30:16:32:08:INFO] [59]#011train-logloss:0.02376#011validation-logloss:0.02436\u001b[0m\n",
      "\u001b[34m[2025-05-30:16:32:08:INFO] [60]#011train-logloss:0.02372#011validation-logloss:0.02431\u001b[0m\n",
      "\u001b[34m[2025-05-30:16:32:08:INFO] [61]#011train-logloss:0.02360#011validation-logloss:0.02427\u001b[0m\n",
      "\u001b[34m[2025-05-30:16:32:08:INFO] [62]#011train-logloss:0.02356#011validation-logloss:0.02422\u001b[0m\n",
      "\u001b[34m[2025-05-30:16:32:08:INFO] [63]#011train-logloss:0.02339#011validation-logloss:0.02406\u001b[0m\n",
      "\u001b[34m[2025-05-30:16:32:08:INFO] [64]#011train-logloss:0.02322#011validation-logloss:0.02391\u001b[0m\n",
      "\u001b[34m[2025-05-30:16:32:09:INFO] [65]#011train-logloss:0.02312#011validation-logloss:0.02378\u001b[0m\n",
      "\u001b[34m[2025-05-30:16:32:09:INFO] [66]#011train-logloss:0.02303#011validation-logloss:0.02371\u001b[0m\n",
      "\u001b[34m[2025-05-30:16:32:09:INFO] [67]#011train-logloss:0.02290#011validation-logloss:0.02355\u001b[0m\n",
      "\u001b[34m[2025-05-30:16:32:09:INFO] [68]#011train-logloss:0.02266#011validation-logloss:0.02331\u001b[0m\n",
      "\u001b[34m[2025-05-30:16:32:09:INFO] [69]#011train-logloss:0.02251#011validation-logloss:0.02317\u001b[0m\n",
      "\u001b[34m[2025-05-30:16:32:09:INFO] [70]#011train-logloss:0.02243#011validation-logloss:0.02310\u001b[0m\n",
      "\u001b[34m[2025-05-30:16:32:09:INFO] [71]#011train-logloss:0.02230#011validation-logloss:0.02300\u001b[0m\n",
      "\u001b[34m[2025-05-30:16:32:09:INFO] [72]#011train-logloss:0.02226#011validation-logloss:0.02298\u001b[0m\n",
      "\u001b[34m[2025-05-30:16:32:09:INFO] [73]#011train-logloss:0.02211#011validation-logloss:0.02280\u001b[0m\n",
      "\u001b[34m[2025-05-30:16:32:10:INFO] [74]#011train-logloss:0.02179#011validation-logloss:0.02245\u001b[0m\n",
      "\u001b[34m[2025-05-30:16:32:10:INFO] [75]#011train-logloss:0.02169#011validation-logloss:0.02240\u001b[0m\n",
      "\u001b[34m[2025-05-30:16:32:10:INFO] [76]#011train-logloss:0.02155#011validation-logloss:0.02233\u001b[0m\n",
      "\u001b[34m[2025-05-30:16:32:10:INFO] [77]#011train-logloss:0.02145#011validation-logloss:0.02223\u001b[0m\n",
      "\u001b[34m[2025-05-30:16:32:10:INFO] [78]#011train-logloss:0.02140#011validation-logloss:0.02218\u001b[0m\n",
      "\u001b[34m[2025-05-30:16:32:10:INFO] [79]#011train-logloss:0.02135#011validation-logloss:0.02216\u001b[0m\n",
      "\u001b[34m[2025-05-30:16:32:10:INFO] [80]#011train-logloss:0.02119#011validation-logloss:0.02200\u001b[0m\n",
      "\u001b[34m[2025-05-30:16:32:10:INFO] [81]#011train-logloss:0.02116#011validation-logloss:0.02199\u001b[0m\n",
      "\u001b[34m[2025-05-30:16:32:11:INFO] [82]#011train-logloss:0.02116#011validation-logloss:0.02199\u001b[0m\n",
      "\u001b[34m[2025-05-30:16:32:11:INFO] [83]#011train-logloss:0.02110#011validation-logloss:0.02190\u001b[0m\n",
      "\u001b[34m[2025-05-30:16:32:11:INFO] [84]#011train-logloss:0.02099#011validation-logloss:0.02182\u001b[0m\n",
      "\u001b[34m[2025-05-30:16:32:11:INFO] [85]#011train-logloss:0.02082#011validation-logloss:0.02165\u001b[0m\n",
      "\u001b[34m[2025-05-30:16:32:11:INFO] [86]#011train-logloss:0.02076#011validation-logloss:0.02161\u001b[0m\n",
      "\u001b[34m[2025-05-30:16:32:11:INFO] [87]#011train-logloss:0.02072#011validation-logloss:0.02158\u001b[0m\n",
      "\u001b[34m[2025-05-30:16:32:11:INFO] [88]#011train-logloss:0.02066#011validation-logloss:0.02153\u001b[0m\n",
      "\u001b[34m[2025-05-30:16:32:11:INFO] [89]#011train-logloss:0.02041#011validation-logloss:0.02135\u001b[0m\n",
      "\u001b[34m[2025-05-30:16:32:12:INFO] [90]#011train-logloss:0.02039#011validation-logloss:0.02132\u001b[0m\n",
      "\u001b[34m[2025-05-30:16:32:12:INFO] [91]#011train-logloss:0.02031#011validation-logloss:0.02126\u001b[0m\n",
      "\u001b[34m[2025-05-30:16:32:12:INFO] [92]#011train-logloss:0.02031#011validation-logloss:0.02126\u001b[0m\n",
      "\u001b[34m[2025-05-30:16:32:12:INFO] [93]#011train-logloss:0.02026#011validation-logloss:0.02122\u001b[0m\n",
      "\u001b[34m[2025-05-30:16:32:12:INFO] [94]#011train-logloss:0.02014#011validation-logloss:0.02119\u001b[0m\n",
      "\u001b[34m[2025-05-30:16:32:12:INFO] [95]#011train-logloss:0.02009#011validation-logloss:0.02114\u001b[0m\n",
      "\u001b[34m[2025-05-30:16:32:12:INFO] [96]#011train-logloss:0.02009#011validation-logloss:0.02114\u001b[0m\n",
      "\u001b[34m[2025-05-30:16:32:12:INFO] [97]#011train-logloss:0.02004#011validation-logloss:0.02111\u001b[0m\n",
      "\u001b[34m[2025-05-30:16:32:12:INFO] [98]#011train-logloss:0.02000#011validation-logloss:0.02108\u001b[0m\n",
      "\u001b[34m[2025-05-30:16:32:13:INFO] [99]#011train-logloss:0.01989#011validation-logloss:0.02104\u001b[0m\n",
      "\u001b[34m[2025-05-30:16:32:13:INFO] [100]#011train-logloss:0.01988#011validation-logloss:0.02104\u001b[0m\n",
      "\u001b[34m[2025-05-30:16:32:13:INFO] [101]#011train-logloss:0.01986#011validation-logloss:0.02101\u001b[0m\n",
      "\u001b[34m[2025-05-30:16:32:13:INFO] [102]#011train-logloss:0.01980#011validation-logloss:0.02094\u001b[0m\n",
      "\u001b[34m[2025-05-30:16:32:13:INFO] [103]#011train-logloss:0.01980#011validation-logloss:0.02094\u001b[0m\n",
      "\u001b[34m[2025-05-30:16:32:13:INFO] [104]#011train-logloss:0.01975#011validation-logloss:0.02090\u001b[0m\n",
      "\u001b[34m[2025-05-30:16:32:13:INFO] [105]#011train-logloss:0.01974#011validation-logloss:0.02090\u001b[0m\n",
      "\u001b[34m[2025-05-30:16:32:13:INFO] [106]#011train-logloss:0.01974#011validation-logloss:0.02091\u001b[0m\n",
      "\u001b[34m[2025-05-30:16:32:13:INFO] [107]#011train-logloss:0.01974#011validation-logloss:0.02091\u001b[0m\n",
      "\u001b[34m[2025-05-30:16:32:13:INFO] [108]#011train-logloss:0.01974#011validation-logloss:0.02091\u001b[0m\n",
      "\u001b[34m[2025-05-30:16:32:14:INFO] [109]#011train-logloss:0.01963#011validation-logloss:0.02079\u001b[0m\n",
      "\u001b[34m[2025-05-30:16:32:14:INFO] [110]#011train-logloss:0.01962#011validation-logloss:0.02079\u001b[0m\n",
      "\u001b[34m[2025-05-30:16:32:14:INFO] [111]#011train-logloss:0.01957#011validation-logloss:0.02074\u001b[0m\n",
      "\u001b[34m[2025-05-30:16:32:14:INFO] [112]#011train-logloss:0.01950#011validation-logloss:0.02066\u001b[0m\n",
      "\u001b[34m[2025-05-30:16:32:14:INFO] [113]#011train-logloss:0.01949#011validation-logloss:0.02065\u001b[0m\n",
      "\u001b[34m[2025-05-30:16:32:14:INFO] [114]#011train-logloss:0.01949#011validation-logloss:0.02065\u001b[0m\n",
      "\u001b[34m[2025-05-30:16:32:14:INFO] [115]#011train-logloss:0.01941#011validation-logloss:0.02062\u001b[0m\n",
      "\u001b[34m[2025-05-30:16:32:15:INFO] [116]#011train-logloss:0.01941#011validation-logloss:0.02062\u001b[0m\n",
      "\u001b[34m[2025-05-30:16:32:15:INFO] [117]#011train-logloss:0.01937#011validation-logloss:0.02063\u001b[0m\n",
      "\u001b[34m[2025-05-30:16:32:15:INFO] [118]#011train-logloss:0.01933#011validation-logloss:0.02057\u001b[0m\n",
      "\u001b[34m[2025-05-30:16:32:15:INFO] [119]#011train-logloss:0.01921#011validation-logloss:0.02047\u001b[0m\n",
      "\u001b[34m[2025-05-30:16:32:15:INFO] [120]#011train-logloss:0.01921#011validation-logloss:0.02047\u001b[0m\n",
      "\u001b[34m[2025-05-30:16:32:15:INFO] [121]#011train-logloss:0.01921#011validation-logloss:0.02047\u001b[0m\n",
      "\u001b[34m[2025-05-30:16:32:15:INFO] [122]#011train-logloss:0.01921#011validation-logloss:0.02047\u001b[0m\n",
      "\u001b[34m[2025-05-30:16:32:15:INFO] [123]#011train-logloss:0.01921#011validation-logloss:0.02047\u001b[0m\n",
      "\u001b[34m[2025-05-30:16:32:16:INFO] [124]#011train-logloss:0.01921#011validation-logloss:0.02047\u001b[0m\n",
      "\u001b[34m[2025-05-30:16:32:16:INFO] [125]#011train-logloss:0.01921#011validation-logloss:0.02047\u001b[0m\n",
      "\u001b[34m[2025-05-30:16:32:16:INFO] [126]#011train-logloss:0.01920#011validation-logloss:0.02046\u001b[0m\n",
      "\u001b[34m[2025-05-30:16:32:16:INFO] [127]#011train-logloss:0.01914#011validation-logloss:0.02042\u001b[0m\n",
      "\u001b[34m[2025-05-30:16:32:16:INFO] [128]#011train-logloss:0.01913#011validation-logloss:0.02042\u001b[0m\n",
      "\u001b[34m[2025-05-30:16:32:16:INFO] [129]#011train-logloss:0.01912#011validation-logloss:0.02042\u001b[0m\n",
      "\u001b[34m[2025-05-30:16:32:16:INFO] [130]#011train-logloss:0.01912#011validation-logloss:0.02042\u001b[0m\n",
      "\u001b[34m[2025-05-30:16:32:16:INFO] [131]#011train-logloss:0.01912#011validation-logloss:0.02042\u001b[0m\n",
      "\u001b[34m[2025-05-30:16:32:16:INFO] [132]#011train-logloss:0.01905#011validation-logloss:0.02037\u001b[0m\n",
      "\u001b[34m[2025-05-30:16:32:16:INFO] [133]#011train-logloss:0.01905#011validation-logloss:0.02037\u001b[0m\n",
      "\u001b[34m[2025-05-30:16:32:17:INFO] [134]#011train-logloss:0.01905#011validation-logloss:0.02037\u001b[0m\n",
      "\u001b[34m[2025-05-30:16:32:17:INFO] [135]#011train-logloss:0.01905#011validation-logloss:0.02037\u001b[0m\n",
      "\u001b[34m[2025-05-30:16:32:17:INFO] [136]#011train-logloss:0.01905#011validation-logloss:0.02037\u001b[0m\n",
      "\u001b[34m[2025-05-30:16:32:17:INFO] [137]#011train-logloss:0.01905#011validation-logloss:0.02037\u001b[0m\n",
      "\u001b[34m[2025-05-30:16:32:17:INFO] [138]#011train-logloss:0.01905#011validation-logloss:0.02037\u001b[0m\n",
      "\u001b[34m[2025-05-30:16:32:17:INFO] [139]#011train-logloss:0.01905#011validation-logloss:0.02036\u001b[0m\n",
      "\u001b[34m[2025-05-30:16:32:17:INFO] [140]#011train-logloss:0.01900#011validation-logloss:0.02031\u001b[0m\n",
      "\u001b[34m[2025-05-30:16:32:17:INFO] [141]#011train-logloss:0.01896#011validation-logloss:0.02027\u001b[0m\n",
      "\u001b[34m[2025-05-30:16:32:17:INFO] [142]#011train-logloss:0.01896#011validation-logloss:0.02027\u001b[0m\n",
      "\u001b[34m[2025-05-30:16:32:17:INFO] [143]#011train-logloss:0.01895#011validation-logloss:0.02026\u001b[0m\n",
      "\u001b[34m[2025-05-30:16:32:18:INFO] [144]#011train-logloss:0.01895#011validation-logloss:0.02026\u001b[0m\n",
      "\u001b[34m[2025-05-30:16:32:18:INFO] [145]#011train-logloss:0.01885#011validation-logloss:0.02019\u001b[0m\n",
      "\u001b[34m[2025-05-30:16:32:18:INFO] [146]#011train-logloss:0.01885#011validation-logloss:0.02019\u001b[0m\n",
      "\u001b[34m[2025-05-30:16:32:18:INFO] [147]#011train-logloss:0.01884#011validation-logloss:0.02020\u001b[0m\n",
      "\u001b[34m[2025-05-30:16:32:18:INFO] [148]#011train-logloss:0.01873#011validation-logloss:0.02016\u001b[0m\n",
      "\u001b[34m[2025-05-30:16:32:18:INFO] [149]#011train-logloss:0.01872#011validation-logloss:0.02016\u001b[0m\n",
      "\u001b[34m[2025-05-30:16:32:18:INFO] [150]#011train-logloss:0.01864#011validation-logloss:0.02005\u001b[0m\n",
      "\u001b[34m[2025-05-30:16:32:18:INFO] [151]#011train-logloss:0.01864#011validation-logloss:0.02005\u001b[0m\n",
      "\u001b[34m[2025-05-30:16:32:18:INFO] [152]#011train-logloss:0.01864#011validation-logloss:0.02005\u001b[0m\n",
      "\u001b[34m[2025-05-30:16:32:18:INFO] [153]#011train-logloss:0.01864#011validation-logloss:0.02005\u001b[0m\n",
      "\u001b[34m[2025-05-30:16:32:19:INFO] [154]#011train-logloss:0.01861#011validation-logloss:0.02002\u001b[0m\n",
      "\u001b[34m[2025-05-30:16:32:19:INFO] [155]#011train-logloss:0.01861#011validation-logloss:0.02002\u001b[0m\n",
      "\u001b[34m[2025-05-30:16:32:19:INFO] [156]#011train-logloss:0.01861#011validation-logloss:0.02002\u001b[0m\n",
      "\u001b[34m[2025-05-30:16:32:19:INFO] [157]#011train-logloss:0.01861#011validation-logloss:0.02002\u001b[0m\n",
      "\u001b[34m[2025-05-30:16:32:19:INFO] [158]#011train-logloss:0.01861#011validation-logloss:0.02002\u001b[0m\n",
      "\u001b[34m[2025-05-30:16:32:19:INFO] [159]#011train-logloss:0.01851#011validation-logloss:0.02000\u001b[0m\n",
      "\u001b[34m[2025-05-30:16:32:19:INFO] [160]#011train-logloss:0.01851#011validation-logloss:0.02000\u001b[0m\n",
      "\u001b[34m[2025-05-30:16:32:19:INFO] [161]#011train-logloss:0.01851#011validation-logloss:0.02000\u001b[0m\n",
      "\u001b[34m[2025-05-30:16:32:19:INFO] [162]#011train-logloss:0.01851#011validation-logloss:0.02000\u001b[0m\n",
      "\u001b[34m[2025-05-30:16:32:19:INFO] [163]#011train-logloss:0.01851#011validation-logloss:0.01999\u001b[0m\n",
      "\u001b[34m[2025-05-30:16:32:20:INFO] [164]#011train-logloss:0.01851#011validation-logloss:0.01999\u001b[0m\n",
      "\u001b[34m[2025-05-30:16:32:20:INFO] [165]#011train-logloss:0.01848#011validation-logloss:0.01998\u001b[0m\n",
      "\u001b[34m[2025-05-30:16:32:20:INFO] [166]#011train-logloss:0.01840#011validation-logloss:0.01991\u001b[0m\n",
      "\u001b[34m[2025-05-30:16:32:20:INFO] [167]#011train-logloss:0.01840#011validation-logloss:0.01991\u001b[0m\n",
      "\u001b[34m[2025-05-30:16:32:20:INFO] [168]#011train-logloss:0.01840#011validation-logloss:0.01991\u001b[0m\n",
      "\u001b[34m[2025-05-30:16:32:20:INFO] [169]#011train-logloss:0.01840#011validation-logloss:0.01991\u001b[0m\n",
      "\u001b[34m[2025-05-30:16:32:20:INFO] [170]#011train-logloss:0.01834#011validation-logloss:0.01988\u001b[0m\n",
      "\u001b[34m[2025-05-30:16:32:20:INFO] [171]#011train-logloss:0.01832#011validation-logloss:0.01985\u001b[0m\n",
      "\u001b[34m[2025-05-30:16:32:20:INFO] [172]#011train-logloss:0.01832#011validation-logloss:0.01985\u001b[0m\n",
      "\u001b[34m[2025-05-30:16:32:20:INFO] [173]#011train-logloss:0.01830#011validation-logloss:0.01982\u001b[0m\n",
      "\u001b[34m[2025-05-30:16:32:21:INFO] [174]#011train-logloss:0.01830#011validation-logloss:0.01982\u001b[0m\n",
      "\u001b[34m[2025-05-30:16:32:21:INFO] [175]#011train-logloss:0.01830#011validation-logloss:0.01982\u001b[0m\n",
      "\u001b[34m[2025-05-30:16:32:21:INFO] [176]#011train-logloss:0.01830#011validation-logloss:0.01982\u001b[0m\n",
      "\u001b[34m[2025-05-30:16:32:21:INFO] [177]#011train-logloss:0.01830#011validation-logloss:0.01982\u001b[0m\n",
      "\u001b[34m[2025-05-30:16:32:21:INFO] [178]#011train-logloss:0.01830#011validation-logloss:0.01982\u001b[0m\n",
      "\u001b[34m[2025-05-30:16:32:21:INFO] [179]#011train-logloss:0.01830#011validation-logloss:0.01981\u001b[0m\n",
      "\u001b[34m[2025-05-30:16:32:21:INFO] [180]#011train-logloss:0.01830#011validation-logloss:0.01981\u001b[0m\n",
      "\u001b[34m[2025-05-30:16:32:21:INFO] [181]#011train-logloss:0.01830#011validation-logloss:0.01981\u001b[0m\n",
      "\u001b[34m[2025-05-30:16:32:21:INFO] [182]#011train-logloss:0.01828#011validation-logloss:0.01981\u001b[0m\n",
      "\u001b[34m[2025-05-30:16:32:21:INFO] [183]#011train-logloss:0.01828#011validation-logloss:0.01981\u001b[0m\n",
      "\u001b[34m[2025-05-30:16:32:22:INFO] [184]#011train-logloss:0.01828#011validation-logloss:0.01981\u001b[0m\n",
      "\u001b[34m[2025-05-30:16:32:22:INFO] [185]#011train-logloss:0.01828#011validation-logloss:0.01981\u001b[0m\n",
      "\u001b[34m[2025-05-30:16:32:22:INFO] [186]#011train-logloss:0.01828#011validation-logloss:0.01981\u001b[0m\n",
      "\u001b[34m[2025-05-30:16:32:22:INFO] [187]#011train-logloss:0.01828#011validation-logloss:0.01981\u001b[0m\n",
      "\u001b[34m[2025-05-30:16:32:22:INFO] [188]#011train-logloss:0.01827#011validation-logloss:0.01980\u001b[0m\n",
      "\u001b[34m[2025-05-30:16:32:22:INFO] [189]#011train-logloss:0.01823#011validation-logloss:0.01978\u001b[0m\n",
      "\u001b[34m[2025-05-30:16:32:22:INFO] [190]#011train-logloss:0.01822#011validation-logloss:0.01977\u001b[0m\n",
      "\u001b[34m[2025-05-30:16:32:22:INFO] [191]#011train-logloss:0.01822#011validation-logloss:0.01977\u001b[0m\n",
      "\u001b[34m[2025-05-30:16:32:22:INFO] [192]#011train-logloss:0.01822#011validation-logloss:0.01977\u001b[0m\n",
      "\u001b[34m[2025-05-30:16:32:22:INFO] [193]#011train-logloss:0.01811#011validation-logloss:0.01966\u001b[0m\n",
      "\u001b[34m[2025-05-30:16:32:23:INFO] [194]#011train-logloss:0.01811#011validation-logloss:0.01966\u001b[0m\n",
      "\u001b[34m[2025-05-30:16:32:23:INFO] [195]#011train-logloss:0.01809#011validation-logloss:0.01965\u001b[0m\n",
      "\u001b[34m[2025-05-30:16:32:23:INFO] [196]#011train-logloss:0.01809#011validation-logloss:0.01965\u001b[0m\n",
      "\u001b[34m[2025-05-30:16:32:23:INFO] [197]#011train-logloss:0.01805#011validation-logloss:0.01962\u001b[0m\n",
      "\u001b[34m[2025-05-30:16:32:23:INFO] [198]#011train-logloss:0.01804#011validation-logloss:0.01962\u001b[0m\n",
      "\u001b[34m[2025-05-30:16:32:23:INFO] [199]#011train-logloss:0.01800#011validation-logloss:0.01961\u001b[0m\n",
      "\u001b[34m[2025-05-30:16:32:23:INFO] [200]#011train-logloss:0.01800#011validation-logloss:0.01961\u001b[0m\n",
      "\u001b[34m[2025-05-30:16:32:23:INFO] [201]#011train-logloss:0.01800#011validation-logloss:0.01961\u001b[0m\n",
      "\u001b[34m[2025-05-30:16:32:23:INFO] [202]#011train-logloss:0.01798#011validation-logloss:0.01958\u001b[0m\n",
      "\u001b[34m[2025-05-30:16:32:23:INFO] [203]#011train-logloss:0.01796#011validation-logloss:0.01958\u001b[0m\n",
      "\u001b[34m[2025-05-30:16:32:24:INFO] [204]#011train-logloss:0.01796#011validation-logloss:0.01958\u001b[0m\n",
      "\u001b[34m[2025-05-30:16:32:24:INFO] [205]#011train-logloss:0.01796#011validation-logloss:0.01958\u001b[0m\n",
      "\u001b[34m[2025-05-30:16:32:24:INFO] [206]#011train-logloss:0.01790#011validation-logloss:0.01955\u001b[0m\n",
      "\u001b[34m[2025-05-30:16:32:24:INFO] [207]#011train-logloss:0.01790#011validation-logloss:0.01955\u001b[0m\n",
      "\u001b[34m[2025-05-30:16:32:24:INFO] [208]#011train-logloss:0.01790#011validation-logloss:0.01955\u001b[0m\n",
      "\u001b[34m[2025-05-30:16:32:24:INFO] [209]#011train-logloss:0.01790#011validation-logloss:0.01955\u001b[0m\n",
      "\u001b[34m[2025-05-30:16:32:24:INFO] [210]#011train-logloss:0.01790#011validation-logloss:0.01955\u001b[0m\n",
      "\u001b[34m[2025-05-30:16:32:24:INFO] [211]#011train-logloss:0.01778#011validation-logloss:0.01941\u001b[0m\n",
      "\u001b[34m[2025-05-30:16:32:24:INFO] [212]#011train-logloss:0.01776#011validation-logloss:0.01937\u001b[0m\n",
      "\u001b[34m[2025-05-30:16:32:24:INFO] [213]#011train-logloss:0.01771#011validation-logloss:0.01935\u001b[0m\n",
      "\u001b[34m[2025-05-30:16:32:25:INFO] [214]#011train-logloss:0.01771#011validation-logloss:0.01935\u001b[0m\n",
      "\u001b[34m[2025-05-30:16:32:25:INFO] [215]#011train-logloss:0.01771#011validation-logloss:0.01935\u001b[0m\n",
      "\u001b[34m[2025-05-30:16:32:25:INFO] [216]#011train-logloss:0.01771#011validation-logloss:0.01936\u001b[0m\n",
      "\u001b[34m[2025-05-30:16:32:25:INFO] [217]#011train-logloss:0.01771#011validation-logloss:0.01936\u001b[0m\n",
      "\u001b[34m[2025-05-30:16:32:25:INFO] [218]#011train-logloss:0.01765#011validation-logloss:0.01930\u001b[0m\n",
      "\u001b[34m[2025-05-30:16:32:25:INFO] [219]#011train-logloss:0.01765#011validation-logloss:0.01931\u001b[0m\n",
      "\u001b[34m[2025-05-30:16:32:25:INFO] [220]#011train-logloss:0.01764#011validation-logloss:0.01928\u001b[0m\n",
      "\u001b[34m[2025-05-30:16:32:25:INFO] [221]#011train-logloss:0.01764#011validation-logloss:0.01928\u001b[0m\n",
      "\u001b[34m[2025-05-30:16:32:25:INFO] [222]#011train-logloss:0.01764#011validation-logloss:0.01928\u001b[0m\n",
      "\u001b[34m[2025-05-30:16:32:25:INFO] [223]#011train-logloss:0.01763#011validation-logloss:0.01928\u001b[0m\n",
      "\u001b[34m[2025-05-30:16:32:26:INFO] [224]#011train-logloss:0.01763#011validation-logloss:0.01928\u001b[0m\n",
      "\u001b[34m[2025-05-30:16:32:26:INFO] [225]#011train-logloss:0.01762#011validation-logloss:0.01927\u001b[0m\n",
      "\u001b[34m[2025-05-30:16:32:26:INFO] [226]#011train-logloss:0.01762#011validation-logloss:0.01928\u001b[0m\n",
      "\u001b[34m[2025-05-30:16:32:26:INFO] [227]#011train-logloss:0.01762#011validation-logloss:0.01928\u001b[0m\n",
      "\u001b[34m[2025-05-30:16:32:26:INFO] [228]#011train-logloss:0.01761#011validation-logloss:0.01928\u001b[0m\n",
      "\u001b[34m[2025-05-30:16:32:26:INFO] [229]#011train-logloss:0.01761#011validation-logloss:0.01928\u001b[0m\n",
      "\u001b[34m[2025-05-30:16:32:26:INFO] [230]#011train-logloss:0.01761#011validation-logloss:0.01928\u001b[0m\n",
      "\u001b[34m[2025-05-30:16:32:26:INFO] [231]#011train-logloss:0.01761#011validation-logloss:0.01928\u001b[0m\n",
      "\u001b[34m[2025-05-30:16:32:26:INFO] [232]#011train-logloss:0.01761#011validation-logloss:0.01928\u001b[0m\n",
      "\u001b[34m[2025-05-30:16:32:26:INFO] [233]#011train-logloss:0.01761#011validation-logloss:0.01928\u001b[0m\n",
      "\u001b[34m[2025-05-30:16:32:27:INFO] [234]#011train-logloss:0.01761#011validation-logloss:0.01928\u001b[0m\n",
      "\u001b[34m[2025-05-30:16:32:27:INFO] [235]#011train-logloss:0.01761#011validation-logloss:0.01928\u001b[0m\n",
      "\u001b[34m[2025-05-30:16:32:27:INFO] [236]#011train-logloss:0.01761#011validation-logloss:0.01928\u001b[0m\n",
      "\u001b[34m[2025-05-30:16:32:27:INFO] [237]#011train-logloss:0.01761#011validation-logloss:0.01928\u001b[0m\n",
      "\u001b[34m[2025-05-30:16:32:27:INFO] [238]#011train-logloss:0.01761#011validation-logloss:0.01928\u001b[0m\n",
      "\u001b[34m[2025-05-30:16:32:27:INFO] [239]#011train-logloss:0.01761#011validation-logloss:0.01927\u001b[0m\n",
      "\u001b[34m[2025-05-30:16:32:27:INFO] [240]#011train-logloss:0.01761#011validation-logloss:0.01927\u001b[0m\n",
      "\u001b[34m[2025-05-30:16:32:27:INFO] [241]#011train-logloss:0.01755#011validation-logloss:0.01922\u001b[0m\n",
      "\u001b[34m[2025-05-30:16:32:27:INFO] [242]#011train-logloss:0.01753#011validation-logloss:0.01920\u001b[0m\n",
      "\u001b[34m[2025-05-30:16:32:28:INFO] [243]#011train-logloss:0.01752#011validation-logloss:0.01921\u001b[0m\n",
      "\u001b[34m[2025-05-30:16:32:28:INFO] [244]#011train-logloss:0.01752#011validation-logloss:0.01921\u001b[0m\n",
      "\u001b[34m[2025-05-30:16:32:28:INFO] [245]#011train-logloss:0.01752#011validation-logloss:0.01921\u001b[0m\n",
      "\u001b[34m[2025-05-30:16:32:28:INFO] [246]#011train-logloss:0.01752#011validation-logloss:0.01921\u001b[0m\n",
      "\u001b[34m[2025-05-30:16:32:28:INFO] [247]#011train-logloss:0.01752#011validation-logloss:0.01921\u001b[0m\n",
      "\u001b[34m[2025-05-30:16:32:28:INFO] [248]#011train-logloss:0.01748#011validation-logloss:0.01921\u001b[0m\n",
      "\u001b[34m[2025-05-30:16:32:28:INFO] [249]#011train-logloss:0.01745#011validation-logloss:0.01916\u001b[0m\n",
      "\u001b[34m[2025-05-30:16:32:28:INFO] [250]#011train-logloss:0.01745#011validation-logloss:0.01916\u001b[0m\n",
      "\u001b[34m[2025-05-30:16:32:28:INFO] [251]#011train-logloss:0.01744#011validation-logloss:0.01916\u001b[0m\n",
      "\u001b[34m[2025-05-30:16:32:28:INFO] [252]#011train-logloss:0.01744#011validation-logloss:0.01916\u001b[0m\n",
      "\u001b[34m[2025-05-30:16:32:29:INFO] [253]#011train-logloss:0.01743#011validation-logloss:0.01916\u001b[0m\n",
      "\u001b[34m[2025-05-30:16:32:29:INFO] [254]#011train-logloss:0.01742#011validation-logloss:0.01916\u001b[0m\n",
      "\u001b[34m[2025-05-30:16:32:29:INFO] [255]#011train-logloss:0.01742#011validation-logloss:0.01916\u001b[0m\n",
      "\u001b[34m[2025-05-30:16:32:29:INFO] [256]#011train-logloss:0.01742#011validation-logloss:0.01916\u001b[0m\n",
      "\u001b[34m[2025-05-30:16:32:29:INFO] [257]#011train-logloss:0.01741#011validation-logloss:0.01918\u001b[0m\n",
      "\u001b[34m[2025-05-30:16:32:29:INFO] [258]#011train-logloss:0.01740#011validation-logloss:0.01916\u001b[0m\n",
      "\u001b[34m[2025-05-30:16:32:29:INFO] [259]#011train-logloss:0.01740#011validation-logloss:0.01916\u001b[0m\n",
      "\u001b[34m[2025-05-30:16:32:29:INFO] [260]#011train-logloss:0.01740#011validation-logloss:0.01916\u001b[0m\n",
      "\u001b[34m[2025-05-30:16:32:29:INFO] [261]#011train-logloss:0.01739#011validation-logloss:0.01916\u001b[0m\n",
      "\u001b[34m[2025-05-30:16:32:29:INFO] [262]#011train-logloss:0.01739#011validation-logloss:0.01916\u001b[0m\n",
      "\u001b[34m[2025-05-30:16:32:29:INFO] [263]#011train-logloss:0.01739#011validation-logloss:0.01916\u001b[0m\n",
      "\u001b[34m[2025-05-30:16:32:30:INFO] [264]#011train-logloss:0.01738#011validation-logloss:0.01917\u001b[0m\n",
      "\u001b[34m[2025-05-30:16:32:30:INFO] [265]#011train-logloss:0.01738#011validation-logloss:0.01917\u001b[0m\n",
      "\u001b[34m[2025-05-30:16:32:30:INFO] [266]#011train-logloss:0.01738#011validation-logloss:0.01917\u001b[0m\n",
      "\u001b[34m[2025-05-30:16:32:30:INFO] [267]#011train-logloss:0.01738#011validation-logloss:0.01917\u001b[0m\n",
      "\u001b[34m[2025-05-30:16:32:30:INFO] [268]#011train-logloss:0.01737#011validation-logloss:0.01916\u001b[0m\n",
      "\u001b[34m[2025-05-30:16:32:30:INFO] [269]#011train-logloss:0.01737#011validation-logloss:0.01916\u001b[0m\n",
      "\u001b[34m[2025-05-30:16:32:30:INFO] [270]#011train-logloss:0.01737#011validation-logloss:0.01916\u001b[0m\n",
      "\u001b[34m[2025-05-30:16:32:30:INFO] [271]#011train-logloss:0.01737#011validation-logloss:0.01916\u001b[0m\n",
      "\u001b[34m[2025-05-30:16:32:30:INFO] [272]#011train-logloss:0.01737#011validation-logloss:0.01916\u001b[0m\n",
      "\u001b[34m[2025-05-30:16:32:30:INFO] [273]#011train-logloss:0.01737#011validation-logloss:0.01916\u001b[0m\n",
      "\u001b[34m[2025-05-30:16:32:31:INFO] [274]#011train-logloss:0.01736#011validation-logloss:0.01916\u001b[0m\n",
      "\u001b[34m[2025-05-30:16:32:31:INFO] [275]#011train-logloss:0.01737#011validation-logloss:0.01916\u001b[0m\n",
      "\u001b[34m[2025-05-30:16:32:31:INFO] [276]#011train-logloss:0.01736#011validation-logloss:0.01917\u001b[0m\n",
      "\u001b[34m[2025-05-30:16:32:31:INFO] [277]#011train-logloss:0.01730#011validation-logloss:0.01913\u001b[0m\n",
      "\u001b[34m[2025-05-30:16:32:31:INFO] [278]#011train-logloss:0.01730#011validation-logloss:0.01913\u001b[0m\n",
      "\u001b[34m[2025-05-30:16:32:31:INFO] [279]#011train-logloss:0.01726#011validation-logloss:0.01910\u001b[0m\n",
      "\u001b[34m[2025-05-30:16:32:31:INFO] [280]#011train-logloss:0.01726#011validation-logloss:0.01910\u001b[0m\n",
      "\u001b[34m[2025-05-30:16:32:31:INFO] [281]#011train-logloss:0.01726#011validation-logloss:0.01910\u001b[0m\n",
      "\u001b[34m[2025-05-30:16:32:31:INFO] [282]#011train-logloss:0.01726#011validation-logloss:0.01910\u001b[0m\n",
      "\u001b[34m[2025-05-30:16:32:31:INFO] [283]#011train-logloss:0.01726#011validation-logloss:0.01910\u001b[0m\n",
      "\u001b[34m[2025-05-30:16:32:32:INFO] [284]#011train-logloss:0.01726#011validation-logloss:0.01910\u001b[0m\n",
      "\u001b[34m[2025-05-30:16:32:32:INFO] [285]#011train-logloss:0.01726#011validation-logloss:0.01912\u001b[0m\n",
      "\u001b[34m[2025-05-30:16:32:32:INFO] [286]#011train-logloss:0.01726#011validation-logloss:0.01911\u001b[0m\n",
      "\u001b[34m[2025-05-30:16:32:32:INFO] [287]#011train-logloss:0.01726#011validation-logloss:0.01911\u001b[0m\n",
      "\u001b[34m[2025-05-30:16:32:32:INFO] [288]#011train-logloss:0.01726#011validation-logloss:0.01911\u001b[0m\n",
      "\u001b[34m[2025-05-30:16:32:32:INFO] [289]#011train-logloss:0.01726#011validation-logloss:0.01911\u001b[0m\n",
      "\u001b[34m[2025-05-30:16:32:32:INFO] [290]#011train-logloss:0.01726#011validation-logloss:0.01911\u001b[0m\n",
      "\u001b[34m[2025-05-30:16:32:32:INFO] [291]#011train-logloss:0.01726#011validation-logloss:0.01911\u001b[0m\n",
      "\u001b[34m[2025-05-30:16:32:32:INFO] [292]#011train-logloss:0.01726#011validation-logloss:0.01912\u001b[0m\n",
      "\u001b[34m[2025-05-30:16:32:32:INFO] [293]#011train-logloss:0.01726#011validation-logloss:0.01912\u001b[0m\n",
      "\u001b[34m[2025-05-30:16:32:32:INFO] [294]#011train-logloss:0.01726#011validation-logloss:0.01912\u001b[0m\n",
      "\u001b[34m[2025-05-30:16:32:33:INFO] [295]#011train-logloss:0.01725#011validation-logloss:0.01911\u001b[0m\n",
      "\u001b[34m[2025-05-30:16:32:33:INFO] [296]#011train-logloss:0.01725#011validation-logloss:0.01911\u001b[0m\n",
      "\u001b[34m[2025-05-30:16:32:33:INFO] [297]#011train-logloss:0.01721#011validation-logloss:0.01907\u001b[0m\n",
      "\u001b[34m[2025-05-30:16:32:33:INFO] [298]#011train-logloss:0.01721#011validation-logloss:0.01907\u001b[0m\n",
      "\u001b[34m[2025-05-30:16:32:33:INFO] [299]#011train-logloss:0.01721#011validation-logloss:0.01907\u001b[0m\n",
      "\u001b[34m[2025-05-30:16:32:33:INFO] @tracker All nodes finishes job\u001b[0m\n",
      "\u001b[34m[2025-05-30:16:32:33:INFO] @tracker 32.90221834182739 secs between node start and job finish\u001b[0m\n",
      "\n",
      "2025-05-30 16:32:35 Uploading - Uploading generated training model\n",
      "2025-05-30 16:32:53 Completed - Training job completed\n",
      "Training seconds: 350\n",
      "Billable seconds: 350\n"
     ]
    }
   ],
   "source": [
    "# execute the XGBoost training job\n",
    "estimator.fit({'train': train_input, 'validation': validation_input}, wait=True, logs=\"All\")"
   ]
  },
  {
   "cell_type": "markdown",
   "id": "ca2c9a34-0460-48a6-8d77-c8cb3ac0eae9",
   "metadata": {},
   "source": [
    "model data saved to `s3://sagemaker-us-east-1-922945788052/models/xgboost/v1/sagemaker-xgboost-2025-05-30-16-29-11-781/output/model.tar.gz`\n",
    "\n",
    "# Test XGBOOST Model\n"
   ]
  },
  {
   "cell_type": "code",
   "execution_count": 10,
   "id": "9bab5e9c-01ae-4d9f-92c1-ec2261542fb1",
   "metadata": {},
   "outputs": [
    {
     "name": "stdout",
     "output_type": "stream",
     "text": [
      "Downloaded processed_data/test.csv from S3 to ../data/local_test_data/test.csv\n"
     ]
    }
   ],
   "source": [
    "# download test data locally\n",
    "bucket = 'sagemaker-us-east-1-922945788052'\n",
    "prefix = 'processed_data/test.csv'\n",
    "local_file = '../data/local_test_data/test.csv'\n",
    "\n",
    "s3 = boto3.client('s3')\n",
    "s3.download_file(bucket, prefix, local_file)\n",
    "print(f\"Downloaded {prefix} from S3 to {local_file}\")"
   ]
  },
  {
   "cell_type": "code",
   "execution_count": 11,
   "id": "0c79f7e8-1668-4db4-ac24-72200bf90b5d",
   "metadata": {},
   "outputs": [],
   "source": [
    "import pandas as pd\n",
    "df_test = pd.read_csv(local_file)"
   ]
  },
  {
   "cell_type": "code",
   "execution_count": 12,
   "id": "84fc920b-e3f1-4f00-aba4-53e29f508cea",
   "metadata": {},
   "outputs": [],
   "source": [
    "y_test = df_test.iloc[:, 0].astype(int)  # first column = label\n",
    "X_test = df_test.iloc[:, 1:]             # rest = features"
   ]
  },
  {
   "cell_type": "code",
   "execution_count": 15,
   "id": "0744b67d-2b7c-44e9-8724-cfe770bba2f2",
   "metadata": {},
   "outputs": [
    {
     "name": "stdout",
     "output_type": "stream",
     "text": [
      "Downloaded models/xgboost/v1/sagemaker-xgboost-2025-05-30-16-29-11-781/output/model.tar.gz from S3 to ../local_model_data/xgboost-v1/model.tar.gz\n"
     ]
    }
   ],
   "source": [
    "# Download model\n",
    "bucket = 'sagemaker-us-east-1-922945788052'\n",
    "model_key = 'models/xgboost/v1/sagemaker-xgboost-2025-05-30-16-29-11-781/output/model.tar.gz'\n",
    "local_file = '../data/local_model_data/xgboost-v1/model.tar.gz'\n",
    "\n",
    "s3 = boto3.client('s3')\n",
    "s3.download_file(bucket, model_key, local_file)\n",
    "print(f\"Downloaded {model_key} from S3 to {local_file}\")"
   ]
  },
  {
   "cell_type": "code",
   "execution_count": 18,
   "id": "f21b3fec-e6cd-477f-92f7-2908cfc5b8a6",
   "metadata": {},
   "outputs": [
    {
     "name": "stdout",
     "output_type": "stream",
     "text": [
      "Model extracted to ../local_model_data/xgboost-v1/\n"
     ]
    },
    {
     "name": "stderr",
     "output_type": "stream",
     "text": [
      "/tmp/ipykernel_233/3262553858.py:7: DeprecationWarning: Python 3.14 will, by default, filter extracted tar archives and reject files or modify their metadata. Use the filter argument to control this behavior.\n",
      "  tar.extractall(path=target_dir)\n"
     ]
    }
   ],
   "source": [
    "import tarfile\n",
    "\n",
    "# Specify your desired target directory\n",
    "target_dir = \"../data/local_model_data/xgboost-v1/\"\n",
    "\n",
    "with tarfile.open(local_file) as tar:\n",
    "    tar.extractall(path=target_dir)\n",
    "\n",
    "print(f\"Model extracted to {target_dir}\")"
   ]
  },
  {
   "cell_type": "code",
   "execution_count": 20,
   "id": "66281bdf-50c1-4f6f-b02c-c5d11ddb054d",
   "metadata": {},
   "outputs": [
    {
     "name": "stdout",
     "output_type": "stream",
     "text": [
      "Model loaded!\n"
     ]
    }
   ],
   "source": [
    "import xgboost as xgb\n",
    "\n",
    "booster = xgb.Booster()\n",
    "booster.load_model('../data/local_model_data/xgboost-v1/xgboost-model')  # built-in XGBoost saves as this name\n",
    "print(\"Model loaded!\")"
   ]
  },
  {
   "cell_type": "code",
   "execution_count": 21,
   "id": "bdeb9179-22e9-49ea-8764-4d1b492587e3",
   "metadata": {},
   "outputs": [],
   "source": [
    "from sklearn.metrics import classification_report, accuracy_score, confusion_matrix\n",
    "\n",
    "dtest = xgb.DMatrix(X_test)\n",
    "y_pred_prob = booster.predict(dtest)\n",
    "y_pred = (y_pred_prob >= 0.5).astype(int)"
   ]
  },
  {
   "cell_type": "code",
   "execution_count": 22,
   "id": "48250a49-3f68-45ec-b6a5-836a86712930",
   "metadata": {},
   "outputs": [
    {
     "name": "stdout",
     "output_type": "stream",
     "text": [
      "Classification Report:\n",
      "               precision    recall  f1-score   support\n",
      "\n",
      "           0       1.00      0.99      0.99     15142\n",
      "           1       0.99      1.00      1.00     20227\n",
      "\n",
      "    accuracy                           1.00     35369\n",
      "   macro avg       1.00      0.99      1.00     35369\n",
      "weighted avg       1.00      1.00      1.00     35369\n",
      "\n",
      "Accuracy: 0.9953066244451356\n",
      "Confusion Matrix:\n",
      " [[15008   134]\n",
      " [   32 20195]]\n"
     ]
    }
   ],
   "source": [
    "print(\"Classification Report:\\n\", classification_report(y_test, y_pred))\n",
    "print(\"Accuracy:\", accuracy_score(y_test, y_pred))\n",
    "print(\"Confusion Matrix:\\n\", confusion_matrix(y_test, y_pred))"
   ]
  },
  {
   "cell_type": "markdown",
   "id": "58047b05-36ca-4f66-a878-e7421acda4e3",
   "metadata": {},
   "source": [
    "# feature importance"
   ]
  },
  {
   "cell_type": "code",
   "execution_count": 23,
   "id": "eb4f9494-576b-493b-9ff6-0e8de5d6e805",
   "metadata": {},
   "outputs": [],
   "source": [
    "# get feature importance as a list\n",
    "importance_dict = booster.get_score(importance_type='weight')"
   ]
  },
  {
   "cell_type": "code",
   "execution_count": 24,
   "id": "4e60ff22-b8fb-480d-bbad-a4161b5b2215",
   "metadata": {},
   "outputs": [
    {
     "data": {
      "text/plain": [
       "{'f0': 222.0,\n",
       " 'f1': 171.0,\n",
       " 'f3': 109.0,\n",
       " 'f4': 364.0,\n",
       " 'f8': 296.0,\n",
       " 'f9': 50.0,\n",
       " 'f10': 388.0,\n",
       " 'f11': 240.0}"
      ]
     },
     "execution_count": 24,
     "metadata": {},
     "output_type": "execute_result"
    }
   ],
   "source": [
    "importance_dict"
   ]
  },
  {
   "cell_type": "code",
   "execution_count": 25,
   "id": "ff7f7298-7ca6-4404-b747-8ff6536bb8c7",
   "metadata": {},
   "outputs": [],
   "source": [
    "# feature name list for mapping\n",
    "feature_names = [\n",
    "    'URLLength', 'DomainLength', 'IsDomainIP', 'NoOfSubDomain', 'LetterRatioInURL',\n",
    "    'NoOfEqualsInURL', 'NoOfQMarkInURL', 'NoOfAmpersandInURL',\n",
    "    'SpacialCharRatioInURL', 'IsHTTPS', 'CharContinuationRate', 'URLEntropy'\n",
    "]"
   ]
  },
  {
   "cell_type": "code",
   "execution_count": 26,
   "id": "65ca0308-c48b-42b1-8d7c-dc41e77f7387",
   "metadata": {},
   "outputs": [
    {
     "name": "stdout",
     "output_type": "stream",
     "text": [
      "                 Feature  Importance\n",
      "6   CharContinuationRate       388.0\n",
      "3       LetterRatioInURL       364.0\n",
      "4  SpacialCharRatioInURL       296.0\n",
      "7             URLEntropy       240.0\n",
      "0              URLLength       222.0\n",
      "1           DomainLength       171.0\n",
      "2          NoOfSubDomain       109.0\n",
      "5                IsHTTPS        50.0\n"
     ]
    }
   ],
   "source": [
    "# Convert dictionary to DataFrame\n",
    "importance_df = pd.DataFrame({\n",
    "    'Feature': [feature_names[int(k[1:])] for k in importance_dict.keys()],\n",
    "    'Importance': list(importance_dict.values())\n",
    "}).sort_values(by='Importance', ascending=False)\n",
    "\n",
    "print(importance_df)"
   ]
  },
  {
   "cell_type": "code",
   "execution_count": 27,
   "id": "5b593f04-4a4d-4fd5-93e6-441bd55d9f25",
   "metadata": {},
   "outputs": [
    {
     "data": {
      "image/png": "[encoded data removed]",
      "text/plain": [
       "<Figure size 1000x600 with 1 Axes>"
      ]
     },
     "metadata": {},
     "output_type": "display_data"
    }
   ],
   "source": [
    "import matplotlib.pyplot as plt\n",
    "\n",
    "plt.figure(figsize=(10, 6))\n",
    "plt.barh(importance_df['Feature'], importance_df['Importance'])\n",
    "plt.xlabel('Importance')\n",
    "plt.ylabel('Feature')\n",
    "plt.title('Feature Importance (Weight)')\n",
    "plt.gca().invert_yaxis()\n",
    "plt.show()"
   ]
  },
  {
   "cell_type": "markdown",
   "id": "83cb065a-1bd5-4ced-9d3f-2fcb14e49ba8",
   "metadata": {},
   "source": [
    "# We will drop features not present here, they did not contribute to the model\n",
    "- these are \n",
    "- f3: IsDomainIP\n",
    "- f6: NoOfEqualsInURL\n",
    "- f7: NoOfQMarkInURL\n",
    "- f12: URLEntropy\n",
    "\n"
   ]
  },
  {
   "cell_type": "code",
   "execution_count": null,
   "id": "ba7ad099-562c-4c1f-9218-5b88b728755a",
   "metadata": {},
   "outputs": [],
   "source": []
  }
 ],
 "metadata": {
  "kernelspec": {
   "display_name": "Python 3 (ipykernel)",
   "language": "python",
   "name": "python3"
  },
  "language_info": {
   "codemirror_mode": {
    "name": "ipython",
    "version": 3
   },
   "file_extension": ".py",
   "mimetype": "text/x-python",
   "name": "python",
   "nbconvert_exporter": "python",
   "pygments_lexer": "ipython3",
   "version": "3.12.9"
  }
 },
 "nbformat": 4,
 "nbformat_minor": 5
}
